{
 "cells": [
  {
   "cell_type": "markdown",
   "metadata": {
    "collapsed": true
   },
   "source": [
    "# Data Tidying and Manipulation in R\n",
    "## by Diya Das, David DeTomaso, and Andrey Indukaev\n",
    "\n",
    "### The goal\n",
    "Data tidying is a necessary first step for data analysis - it's the process of taking your messily formatted data (missing values, unwieldy coding/organization, etc.) and literally tidying it up so it can be easily used for downstream analyses. To quote Hadley Wickham, \"Tidy datasets are easy to manipulate, model and visualise, and have a specific structure:\n",
    "each variable is a column, each observation is a row, and each type of observational unit\n",
    "is a table.\"\n",
    "\n",
    "These data are actually pretty tidy, so we're going to be focusing on cleaning and manipulation, but these manipulations will give you some idea of how to tidy untidy data.\n",
    "\n",
    "### The datasets\n",
    "We are going to be using the data from the R package [`nycflights13`](https://cran.r-project.org/web/packages/nycflights13/nycflights13.pdf). There are five datasets corresponding to flights departing NYC in 2013. We will load directly into R from the library, but the repository also includes CSV files we created for the purposes of the Python demo and can also be used to load the data into our R session.\n",
    "\n"
   ]
  },
  {
   "cell_type": "markdown",
   "metadata": {
    "collapsed": true
   },
   "source": [
    "*** If you've never run Jupyter notebooks with R, please run `conda install -c r r-essentials`"
   ]
  },
  {
   "cell_type": "code",
   "execution_count": null,
   "metadata": {
    "collapsed": false
   },
   "outputs": [],
   "source": [
    "options(repos=structure(c(CRAN=\"http://cran.cnr.berkeley.edu/\", \n",
    "BioCsoft=\"http://www.bioconductor.org/packages/release/bioc/\")))\n",
    "ipak <- function(pkg){\n",
    "     new.pkg <- pkg[!(pkg %in% installed.packages()[, \"Package\"])]\n",
    "     if (length(new.pkg))\n",
    "         install.packages(new.pkg, dependencies = TRUE)\n",
    "     sapply(pkg, require, character.only = TRUE)\n",
    " } #https://gist.github.com/stevenworthington/3178163\n",
    "\n",
    "pkgs <- c(\"nycflights13\",\n",
    "       \"tidyr\",\n",
    "       \"dplyr\",\n",
    "       \"reshape\",\n",
    "       \"ggplot2\",\n",
    "       \"data.table\")\n",
    "ipak(pkgs)"
   ]
  },
  {
   "cell_type": "code",
   "execution_count": null,
   "metadata": {
    "collapsed": false,
    "scrolled": true
   },
   "outputs": [],
   "source": [
    "#invisible(sapply(pkgs, library, character.only=TRUE ))"
   ]
  },
  {
   "cell_type": "markdown",
   "metadata": {},
   "source": [
    "## Reading data from a file\n",
    "Let's read data from a file, though we won't be using it for this exercise."
   ]
  },
  {
   "cell_type": "code",
   "execution_count": null,
   "metadata": {
    "collapsed": false
   },
   "outputs": [],
   "source": [
    "unzip(\"nycflights13.zip\")\n",
    "list.files()\n",
    "read.delim(\"airlines.txt\")"
   ]
  },
  {
   "cell_type": "markdown",
   "metadata": {},
   "source": [
    "## Inspecting a dataframe // What's in the `flights` dataset?\n",
    "Let's run through an example using the `flights` dataset. This dataset includes...well what does it include? You could read the documentation, but let's take a look first."
   ]
  },
  {
   "cell_type": "code",
   "execution_count": null,
   "metadata": {
    "collapsed": false
   },
   "outputs": [],
   "source": [
    "data(flights)\n",
    "flights <- data.frame(flights) ## dplyr has introduced a new data format that I am ignoring\n",
    "\n",
    "message('What are the first 6 rows?')\n",
    "print(head(flights))\n",
    "message('What are the last 6 rows?')\n",
    "print(tail(flights))\n",
    "\n",
    "message('What does the sample function do?')\n",
    "print(sample(1:6,2))\n",
    "\n",
    "message('What happens when I use sample for indexing?')\n",
    "print(flights[sample(1:nrow(flights),10),]) ## what is this doing?"
   ]
  },
  {
   "cell_type": "markdown",
   "metadata": {},
   "source": [
    "## Identifying and removing NAs in a dataset\n",
    "We noticed some NAs above (hopefully). How do you find them and remove observations for which there are NAs? "
   ]
  },
  {
   "cell_type": "code",
   "execution_count": null,
   "metadata": {
    "collapsed": false
   },
   "outputs": [],
   "source": [
    "message('What are the dimensions of the flights dataframe?\\n')\n",
    "print(dim(flights))\n",
    "\n",
    "message('Are there any NAs in the flights dataframe?\\nAre all values NA?')\n",
    "print(any(is.na(flights)))\n",
    "print(all(is.na(flights)))\n",
    "\n",
    "message('Selecting for flights where there is complete data, what are the dimensions?\\n')\n",
    "## complete.cases returns a logical vector indicating whether all observations in a row are not-NA.\n",
    "message('Using base R...')\n",
    "flights_complete <- flights[complete.cases(flights),]\n",
    "print(dim(flights_complete))\n",
    "message('Using tidyR...')\n",
    "flights_complete2 <- drop_na(flights)\n",
    "message('Are they the same datasets?')\n",
    "print(identical(flights_complete,flights_complete2))\n",
    "\n",
    "message('How might I obtain a summary of the original dataset?')\n",
    "print(summary(flights))"
   ]
  },
  {
   "cell_type": "markdown",
   "metadata": {},
   "source": [
    "## Performing a function along an axis // Calculating mean times\n",
    "\n",
    "R allows easy application of descriptive function along an axis.\n",
    "\n",
    "`any` and `all`, which we used earlier, is an example of that.  If the data are boolean, `any` collapses a series of boolean values into True if *any* of the values are true. `all` collapses a series of boolean values into True if *all* of the values are true.\n",
    "\n",
    "What's the mean air time?"
   ]
  },
  {
   "cell_type": "code",
   "execution_count": null,
   "metadata": {
    "collapsed": false
   },
   "outputs": [],
   "source": [
    "mean(flights_complete$air_time)"
   ]
  },
  {
   "cell_type": "markdown",
   "metadata": {},
   "source": [
    "Can we calculate the mean for multiple subsets of our data at once?"
   ]
  },
  {
   "cell_type": "code",
   "execution_count": null,
   "metadata": {
    "collapsed": false
   },
   "outputs": [],
   "source": [
    "subset <- select(flights_complete, air_time, dep_delay, arr_delay)\n",
    "message('Find mean of each row...')\n",
    "print(head(apply(subset,1, mean)))\n",
    "message('Find mean of each column...')\n",
    "print(apply(subset,2, mean))\n",
    "message('Find mean of each column...yet another way...')\n",
    "print(lapply(subset, mean))\n",
    "message('Let\\'s fix the formatting...')\n",
    "print(sapply(subset, mean))\n",
    "message('Using dplyr...')\n",
    "subset %>%  summarise_all(mean) %>% print()"
   ]
  },
  {
   "cell_type": "markdown",
   "metadata": {},
   "source": [
    "## Performing column-wise operations while grouping by other columns // Departure delay by airport of origin\n",
    "Sometimes you may want to perform some aggregate function on data by category, which is encoded in another column. Here we calculate the statistics for departure delay, grouping by origin of the flight - remember this is the greater NYC area, so there are only three origins!"
   ]
  },
  {
   "cell_type": "code",
   "execution_count": null,
   "metadata": {
    "collapsed": false
   },
   "outputs": [],
   "source": [
    "message('Using tapply...')\n",
    "print(tapply(flights_complete$dep_delay, flights_complete$origin, summary))\n",
    "\n",
    "message('That code is a bit messy, so using the with command for indicating the parent \n",
    "dataframe...')\n",
    "print(with(flights_complete, \n",
    "           tapply(dep_delay, origin, summary)\n",
    "          ))\n",
    "\n",
    "message('Using dplyr...')\n",
    "flights_complete %>% group_by(origin) %>% summarise(avg_dep_delay=mean(dep_delay)) %>% print()"
   ]
  },
  {
   "cell_type": "markdown",
   "metadata": {},
   "source": [
    "## Pipes in R: making code readable\n",
    "The last sections have used the operator `%>%`. This symbol is called a pipe. It was introduced in the `magrittr` package, but `dplyr` and `tidyr` also take advantage of this syntax.\n",
    "\n",
    "Pipes `%>%` exist because they help tidy up commands when performing a chain of operations. When we want to provide to a `function1` some data which is output of a `function2`, whose input is output from `function3`, we can end up with some very nested, difficult-to-read commands:\n",
    "`function1(function2(function3(data,parameters3),parameters2),parameters1)`\n",
    "\n",
    "Sometimes, `with` may help simplify your commands, as above, but piping can be more direct. \n",
    "\n",
    "`data %>% function(parameters)` is exactly the same as `function(data,parameters)`\n",
    "\n",
    "But the code is read (and written) from the left to the right (and not inside-out) and is easier to understand.\n",
    "\n",
    "\n",
    "## Removing NAs // Getting a `flights` dataset with no missing measurements\n",
    "Let's remove rows with missing values (NA) from `flights` dataset, then calculate the average departure delay in one call, first using basic syntax then using pipes.\n"
   ]
  },
  {
   "cell_type": "code",
   "execution_count": null,
   "metadata": {
    "collapsed": false
   },
   "outputs": [],
   "source": [
    "message('Standard R Syntax (using with)')\n",
    "print(with(flights[complete.cases(flights),], \n",
    "           tapply(dep_delay, origin, summary)\n",
    "          )) \n",
    "\n",
    "message('Same operation using pipes and `dplyr`')\n",
    "flights %>% filter(complete.cases(.)) %>% \n",
    "    group_by(origin) %>% \n",
    "        summarise(avg_dep_delay = mean(dep_delay)) %>% \n",
    "            print()\n",
    "\n",
    "flights %>% drop_na() %>%\n",
    "    group_by(origin) %>% \n",
    "        summarise(avg_dep_delay = mean(dep_delay)) %>% \n",
    "            print()\n",
    "\n",
    "#note that . stands for the data frame in the call of type: data %>% funtction1(function2(data))\n",
    "#and in case of multi-line call, %>% should be in the end of a line"
   ]
  },
  {
   "cell_type": "markdown",
   "metadata": {},
   "source": [
    "There are different schools of thought. Some prefer to make code readable by doing all operations step-by-step."
   ]
  },
  {
   "cell_type": "markdown",
   "metadata": {},
   "source": [
    "## Merging tables 'vertically' // Subsetting and re-combining flights from different airlines\n",
    "You will likely need to combine datasets at some point. R provides quite a few tools to do that, and as you've seen, it's possible to do something many different ways.\n",
    "\n",
    "Here, we present a simple case of 'vertical' merging, using `rbind`. Let's create a data frame with information on flights by United Airlines and American Airlines only, by creating two data frames via subsetting data about each airline one by one and then merging. \n",
    "\n",
    "The main requirement is that the columns must have the same names (may be in different order)."
   ]
  },
  {
   "cell_type": "code",
   "execution_count": null,
   "metadata": {
    "collapsed": false
   },
   "outputs": [],
   "source": [
    "message('Subsetting the dataset to have 2 dataframes')\n",
    "flightsUA <- flights[flights$carrier == 'UA',]\n",
    "flightsAA <- flights[flights$carrier == 'AA',]\n",
    "message('Checking the number of rows in two dataframes')\n",
    "print(nrow(flightsUA) + nrow(flightsAA))\n",
    "message('Combining two dataframes than checking the number of rows in the resulting data frame')\n",
    "flightsUAandAA <- rbind(flightsUA,flightsAA)\n",
    "print(nrow(flightsUAandAA))\n"
   ]
  },
  {
   "cell_type": "markdown",
   "metadata": {},
   "source": [
    "Nothing special, just be sure the dataframes have the columns with the same names and types.\n",
    "\n",
    "A useful tip is to use ``do.call`` in order to merge more than two data frames.\n",
    "``do.call`` is a function that applies a function to a list of elements."
   ]
  },
  {
   "cell_type": "code",
   "execution_count": null,
   "metadata": {
    "collapsed": false
   },
   "outputs": [],
   "source": [
    "message('rBinding 3 data frames and checking the number of rows')\n",
    "print(nrow(do.call(rbind, list(flightsUA,flightsAA,flightsUAandAA))))"
   ]
  },
  {
   "cell_type": "markdown",
   "metadata": {},
   "source": [
    "## A useful tip for populating dataframes within a loop\n",
    "'rbind' is really useful for populating a dataframes, but it can be a bit slow within loops. Each time we append a row to a dataframe within a loop a new copy of a dataframe is stored in memory :( \n",
    "\n",
    "The solution is to create a list of lists and then merge them with `do.call rbind` combo. But since ``rbind``, as many native R functions, is slow and not memory-efficient, for large datasets one may want to use\n",
    "``rbindlist`` function from ``data.table`` package, which does the same operation, but faster. \n",
    "\n",
    "Let's compare these approaches using the `system.time` function to see the execution times."
   ]
  },
  {
   "cell_type": "code",
   "execution_count": null,
   "metadata": {
    "collapsed": false
   },
   "outputs": [],
   "source": [
    "message('execution time for rbind')\n",
    "system.time(do.call(rbind, list(flightsUA,flightsAA,flightsUAandAA)))\n",
    "\n",
    "message('execution time for rbindlist, written in C')\n",
    "system.time(rbindlist(list(flightsUA,flightsAA,flightsUAandAA)))"
   ]
  },
  {
   "cell_type": "markdown",
   "metadata": {},
   "source": [
    "And now the example of using rbindlist for populating a data frame.\n",
    "Let's pretend we forgot how to use `tapply` or `group_by` (`dplyr`) and we want to calculate the average arrival and departure delays per airline."
   ]
  },
  {
   "cell_type": "code",
   "execution_count": null,
   "metadata": {
    "collapsed": false
   },
   "outputs": [],
   "source": [
    "Start <- Sys.time()\n",
    "carriers  <- unique(flights_complete$carrier)\n",
    "resList <- list()\n",
    "for (i in 1:length(carriers))\n",
    "{\n",
    "    meanDepDelay <- mean(flights_complete[flights_complete$carrier == carriers[i],]$dep_delay)\n",
    "    meanArrDelay <- mean(flights_complete[flights_complete$carrier == carriers[i],]$arr_delay) \n",
    "    resList[[i]] <- list(carriers[i],meanDepDelay,meanArrDelay)\n",
    "}\n",
    "DelaysByAirline <- rbindlist(resList)\n",
    "colnames(DelaysByAirline) <- c(\"carrier\",\"meanDepDelay\",\"meanArrDelay\")\n",
    "End <- Sys.time()\n",
    "message('It took us')\n",
    "print(End-Start)\n",
    "message('and here is the result for Amercian Airlines')\n",
    "print(DelaysByAirline[DelaysByAirline$carrier == 'AA',])\n",
    "\n",
    "message('Same result without messing with loops')\n",
    "Start <- Sys.time()\n",
    "flights_complete %>% group_by(carrier)%>%\n",
    "    summarize(meanDepDelay = mean(dep_delay), meanArrDelay = mean(arr_delay))%>%\n",
    "        filter(carrier == 'AA') %>% print()\n",
    "End <- Sys.time()\n",
    "message('And it took us')\n",
    "print(End-Start)"
   ]
  },
  {
   "cell_type": "markdown",
   "metadata": {},
   "source": [
    "In most cases loops are possible to avoid, but if you have to write one, the \"list of lists\" + `rbindlist` approach may save you a lot of time."
   ]
  },
  {
   "cell_type": "markdown",
   "metadata": {},
   "source": [
    "## Merge two tables by a single column // What are the most common destination airports?\n",
    "The `flights` dataset has destination airports coded, as three-letter airport codes. I'm pretty good at decoding them, but you don't have to be. "
   ]
  },
  {
   "cell_type": "code",
   "execution_count": null,
   "metadata": {
    "collapsed": false,
    "scrolled": true
   },
   "outputs": [],
   "source": [
    "print(head(airports))"
   ]
  },
  {
   "cell_type": "markdown",
   "metadata": {},
   "source": [
    "The `airports` table gives us a key! Let's merge the `flights` data with the `airports` data, using `dest` in `flights` and `faa` in `airports`."
   ]
  },
  {
   "cell_type": "code",
   "execution_count": null,
   "metadata": {
    "collapsed": false
   },
   "outputs": [],
   "source": [
    "message('This is pretty easy in base R...')\n",
    "flights_readdest <- merge(flights_complete, airports, by.x='dest', by.y = 'faa', all.x=TRUE)\n",
    "print(head(flights_readdest))\n",
    "\n",
    "message('And you can do it in dplyr too...')\n",
    "flights_readdest2 <- left_join(flights_complete, airports, by = c(\"dest\" = \"faa\"))\n",
    "print(head(flights_readdest2))"
   ]
  },
  {
   "cell_type": "markdown",
   "metadata": {},
   "source": [
    "**Why did we use `all.x = TRUE` and `left_join`?**"
   ]
  },
  {
   "cell_type": "code",
   "execution_count": null,
   "metadata": {
    "collapsed": false
   },
   "outputs": [],
   "source": [
    "print(setdiff(flights$dest, airports$faa))"
   ]
  },
  {
   "cell_type": "markdown",
   "metadata": {},
   "source": [
    "Well this merged dataset is nice, but do we really need all of this information?"
   ]
  },
  {
   "cell_type": "code",
   "execution_count": null,
   "metadata": {
    "collapsed": false
   },
   "outputs": [],
   "source": [
    "print(colnames(flights_readdest))"
   ]
  },
  {
   "cell_type": "code",
   "execution_count": null,
   "metadata": {
    "collapsed": false
   },
   "outputs": [],
   "source": [
    "flights_sm <- select(flights_readdest,origin, dest=name, year, month, day, air_time)\n",
    "print(head(flights_sm))"
   ]
  },
  {
   "cell_type": "markdown",
   "metadata": {},
   "source": [
    "Why would you want to ever use `select`? `dplyr` lets you chain operations using the pipes, as discussed above. Let's calculate the average air time for various flight paths, using origin and the readable version of destination airport."
   ]
  },
  {
   "cell_type": "code",
   "execution_count": null,
   "metadata": {
    "collapsed": false
   },
   "outputs": [],
   "source": [
    "airtime <- left_join(flights_complete, airports, by = c(\"dest\" = \"faa\")) %>% \n",
    "    select(origin, dest=name, air_time) %>% \n",
    "    group_by(origin, dest) %>% \n",
    "    summarize(avg_air_time = mean(air_time))\n",
    "\n",
    "print(head(airtime))\n",
    "print(dim(airtime))"
   ]
  },
  {
   "cell_type": "markdown",
   "metadata": {},
   "source": [
    "What's the longest flight from each airport, on average?"
   ]
  },
  {
   "cell_type": "code",
   "execution_count": null,
   "metadata": {
    "collapsed": false
   },
   "outputs": [],
   "source": [
    "with(airtime, tapply(avg_air_time, origin,  function(x) airtime[which.max (x), ])) %>% print()\n",
    "airtime %>% group_by(origin) %>% summarise(max(avg_air_time)) %>% print()"
   ]
  },
  {
   "cell_type": "markdown",
   "metadata": {},
   "source": [
    "## Pivot Table // Average flight time from origin to destination\n",
    "\n",
    "Let's put destinations in rows and origins in columns, and have `air_time` as values."
   ]
  },
  {
   "cell_type": "code",
   "execution_count": null,
   "metadata": {
    "collapsed": false
   },
   "outputs": [],
   "source": [
    "pvt_airtime <- spread(airtime, origin, avg_air_time)\n",
    "summary(apply(pvt_airtime, 1, function(x) all(is.na(x))))\n",
    "print(pvt_airtime)"
   ]
  },
  {
   "cell_type": "markdown",
   "metadata": {},
   "source": [
    "## Multi-column merge // What's the weather like for departing flights?\n",
    "Flights...get delayed. What's the first step if you want to know if the departing airport's weather is at all responsible for the delay? Luckily, we have a `weather` dataset for that.\n",
    "\n",
    "Let's take a look."
   ]
  },
  {
   "cell_type": "code",
   "execution_count": null,
   "metadata": {
    "collapsed": false
   },
   "outputs": [],
   "source": [
    "head(weather)\n",
    "print(intersect(colnames(flights_complete), colnames(weather)))"
   ]
  },
  {
   "cell_type": "code",
   "execution_count": null,
   "metadata": {
    "collapsed": false,
    "scrolled": true
   },
   "outputs": [],
   "source": [
    "flights_weather <- merge(flights_complete, weather, \n",
    "                         by=c(\"year\", \"month\",\"day\",\"hour\", \"origin\"))\n",
    "print(dim(flights_complete))\n",
    "print(dim(flights_weather))"
   ]
  },
  {
   "cell_type": "code",
   "execution_count": null,
   "metadata": {
    "collapsed": false
   },
   "outputs": [],
   "source": [
    "flights_weather_posdelays <- filter(flights_weather, dep_delay>200)\n",
    "print(dim(flights_weather_posdelays))"
   ]
  },
  {
   "cell_type": "markdown",
   "metadata": {},
   "source": [
    "## Arranging a dataframe // What's the weather like for the most and least delayed flights?\n",
    "\n",
    "Let's sort the `flights_weather` dataframe on `dep_delay` and get data for the top 10 and bottom 10 delays."
   ]
  },
  {
   "cell_type": "code",
   "execution_count": null,
   "metadata": {
    "collapsed": false
   },
   "outputs": [],
   "source": [
    "flights_weather %>% arrange(desc(dep_delay)) %>% head(10)"
   ]
  },
  {
   "cell_type": "code",
   "execution_count": null,
   "metadata": {
    "collapsed": false
   },
   "outputs": [],
   "source": [
    "flights_weather %>% arrange(dep_delay) %>% head(10)"
   ]
  },
  {
   "cell_type": "markdown",
   "metadata": {},
   "source": [
    "## Some other tidying\n",
    "## Capitalization issues."
   ]
  },
  {
   "cell_type": "code",
   "execution_count": null,
   "metadata": {
    "collapsed": false
   },
   "outputs": [],
   "source": [
    "print(head(tolower(flights_complete$dest)))\n",
    "print(head(toupper(tolower(flights_complete$dest))))"
   ]
  },
  {
   "cell_type": "markdown",
   "metadata": {},
   "source": [
    "## Wide to long formatted data"
   ]
  },
  {
   "cell_type": "code",
   "execution_count": null,
   "metadata": {
    "collapsed": false
   },
   "outputs": [],
   "source": [
    "print(head(flights_complete))"
   ]
  },
  {
   "cell_type": "code",
   "execution_count": null,
   "metadata": {
    "collapsed": false
   },
   "outputs": [],
   "source": [
    "message('Using reshape')\n",
    "day_delay <- melt(flights_complete, id.vars=c(\"time_hour\"), \n",
    "                measure.vars=c(\"dep_delay\",\"arr_delay\"), variable_name = \"type_of_delay\")\n",
    "print(head(day_delay))\n",
    "message('Using tidyr')\n",
    "day_delay <- gather(flights_complete, `dep_delay`,`arr_delay`, \n",
    "                    key = \"type_of_delay\", value=\"value\")\n",
    "print(head(day_delay))\n",
    "ggplot(day_delay,aes(x=time_hour,y=value,colour=type_of_delay, group=type_of_delay)) + geom_point()"
   ]
  },
  {
   "cell_type": "markdown",
   "metadata": {},
   "source": [
    "Well this is a bit hard to read. What about the first entry for each type of delay in each hour? \n",
    "\n",
    "## Removing duplicates"
   ]
  },
  {
   "cell_type": "code",
   "execution_count": null,
   "metadata": {
    "collapsed": false
   },
   "outputs": [],
   "source": [
    "day_delay_first <- distinct(day_delay, time_hour, type_of_delay, .keep_all = TRUE)\n",
    "print(head(day_delay_first))\n",
    "ggplot(day_delay_first,aes(x=time_hour,y=value,colour=type_of_delay, group=type_of_delay)) + geom_point()"
   ]
  },
  {
   "cell_type": "markdown",
   "metadata": {},
   "source": [
    "## An incomplete investigation of NAs \n",
    "\n",
    "Let's examine where there are NAs in the `flights` dataset."
   ]
  },
  {
   "cell_type": "code",
   "execution_count": null,
   "metadata": {
    "collapsed": false
   },
   "outputs": [],
   "source": [
    "ind <- which(is.na(flights), arr.ind = TRUE)\n",
    "print(head(ind))\n",
    "ind2 <- table(ind[,2])\n",
    "print(ind2)\n",
    "\n",
    "message('But what do those numbers mean?')\n",
    "names(ind2) <- colnames(flights)[as.numeric(names(ind2))]\n",
    "print(ind2)"
   ]
  },
  {
   "cell_type": "code",
   "execution_count": null,
   "metadata": {
    "collapsed": false
   },
   "outputs": [],
   "source": [
    "flights_incomplete <- flights[!complete.cases(flights),]\n",
    "print(dim(flights_incomplete))"
   ]
  },
  {
   "cell_type": "markdown",
   "metadata": {},
   "source": [
    "Do flights with NA departure time also have an NA departure delay?"
   ]
  },
  {
   "cell_type": "code",
   "execution_count": null,
   "metadata": {
    "collapsed": false
   },
   "outputs": [],
   "source": [
    "print(table(is.na(flights_incomplete$dep_time) & is.na(flights_incomplete$dep_delay)))\n",
    "print(table(is.na(flights_incomplete$dep_time) | is.na(flights_incomplete$dep_delay)))"
   ]
  },
  {
   "cell_type": "markdown",
   "metadata": {},
   "source": [
    "Yes."
   ]
  }
 ],
 "metadata": {
  "anaconda-cloud": {},
  "kernelspec": {
   "display_name": "R",
   "language": "R",
   "name": "ir"
  },
  "language_info": {
   "codemirror_mode": "r",
   "file_extension": ".r",
   "mimetype": "text/x-r-source",
   "name": "R",
   "pygments_lexer": "r",
   "version": "3.3.2"
  }
 },
 "nbformat": 4,
 "nbformat_minor": 0
}
