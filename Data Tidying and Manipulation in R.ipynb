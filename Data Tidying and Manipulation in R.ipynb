{
 "cells": [
  {
   "cell_type": "markdown",
   "metadata": {
    "collapsed": true
   },
   "source": [
    "# Data Tidying and Manipulation in R\n",
    "## by Diya Das and Andrey Indukaev\n",
    "\n",
    "### The goal\n",
    "Data tidying is a necessary first step for data analysis - it's the process of taking your messily formatted data (missing values, unwieldy coding/organization, etc.) and literally tidying it up so it can be easily used for downstream analyses. To quote Hadley Wickham, \"Tidy datasets are easy to manipulate, model and visualise, and have a specific structure:\n",
    "each variable is a column, each observation is a row, and each type of observational unit\n",
    "is a table.\"\n",
    "\n",
    "These data are actually pretty tidy, so we're going to be focusing on cleaning and manipulation, but these manipulations will give you some idea of how to tidy untidy data.\n",
    "\n",
    "### The datasets\n",
    "We are going to be using the data from the R package [`nycflights13`](https://cran.r-project.org/web/packages/nycflights13/nycflights13.pdf). There are five datasets corresponding to flights departing NYC in 2013. We will load directly into R from the library, but the repository also includes CSV files we created for the purposes of the Python demo and can also be used to load the data into our R session.\n",
    "\n"
   ]
  },
  {
   "cell_type": "code",
   "execution_count": 1,
   "metadata": {
    "collapsed": false
   },
   "outputs": [
    {
     "data": {
      "text/html": [
       "\"C:\\Users\\Andrey/R/win-library/3.1\""
      ],
      "text/latex": [
       "\"C:\\Users\\Andrey/R/win-library/3.1\""
      ],
      "text/markdown": [
       "\"C:\\Users\\Andrey/R/win-library/3.1\""
      ],
      "text/plain": [
       "[1] \"C:\\\\Users\\\\Andrey/R/win-library/3.1\""
      ]
     },
     "execution_count": 1,
     "metadata": {},
     "output_type": "execute_result"
    }
   ],
   "source": [
    "Sys.getenv(\"R_LIBS_USER\")"
   ]
  },
  {
   "cell_type": "markdown",
   "metadata": {
    "collapsed": true
   },
   "source": [
    "*** If you've never run Jupyter notebooks with R, please run `conda install -c r r-essentials`"
   ]
  },
  {
   "cell_type": "code",
   "execution_count": 5,
   "metadata": {
    "collapsed": false
   },
   "outputs": [
    {
     "name": "stderr",
     "output_type": "stream",
     "text": [
      "\n",
      "Attaching package: 'dplyr'\n",
      "\n",
      "The following object is masked from 'package:reshape':\n",
      "\n",
      "    rename\n",
      "\n",
      "The following objects are masked from 'package:stats':\n",
      "\n",
      "    filter, lag\n",
      "\n",
      "The following objects are masked from 'package:base':\n",
      "\n",
      "    intersect, setdiff, setequal, union\n",
      "\n",
      "\n",
      "Attaching package: 'data.table'\n",
      "\n",
      "The following objects are masked from 'package:dplyr':\n",
      "\n",
      "    between, last\n",
      "\n",
      "The following object is masked from 'package:reshape':\n",
      "\n",
      "    melt\n",
      "\n",
      "\n",
      "Attaching package: 'tidyr'\n",
      "\n",
      "The following object is masked from 'package:reshape':\n",
      "\n",
      "    expand\n",
      "\n"
     ]
    }
   ],
   "source": [
    "pckgsToLoad <- c('nycflights13','dplyr','data.table',\"tidyr\",\"reshape\",\"ggplot2\")\n",
    "#install.packages(pckgsToLoad, repos='http://cran.us.r-project.org')\n",
    "#install.packages(\"nycflights13\")\n",
    "#install.packages(\"tidyr\")\n",
    "#install.packages(\"dplyr\") ## this is a package for some of the manipulations\n",
    "#install.packages(\"reshape\")\n",
    "#install.packages(\"ggplot2\")"
   ]
  },
  {
   "cell_type": "code",
   "execution_count": 6,
   "metadata": {
    "collapsed": false,
    "scrolled": true
   },
   "outputs": [],
   "source": [
    "invisible(lapply(pckgsToLoad, require, character.only = TRUE, quietly = T))\n",
    "#library(nycflights13)\n",
    "#library(tidyr)\n",
    "#library(dplyr)\n",
    "#library(reshape)\n",
    "#library(ggplot2)"
   ]
  },
  {
   "cell_type": "markdown",
   "metadata": {},
   "source": [
    "## Reading data from a file\n",
    "Let's read data from a file, though we won't be using it for this exercise."
   ]
  },
  {
   "cell_type": "code",
   "execution_count": null,
   "metadata": {
    "collapsed": false
   },
   "outputs": [],
   "source": []
  },
  {
   "cell_type": "markdown",
   "metadata": {},
   "source": [
    "## Inspecting a dataframe // What's in the `flights` dataset?\n",
    "Let's run through an example using the `flights` dataset. This dataset includes...well what does it include? You could read the documentation, but let's take a look first."
   ]
  },
  {
   "cell_type": "code",
   "execution_count": 7,
   "metadata": {
    "collapsed": false
   },
   "outputs": [
    {
     "name": "stderr",
     "output_type": "stream",
     "text": [
      "What are the first 6 rows?\n"
     ]
    },
    {
     "name": "stdout",
     "output_type": "stream",
     "text": [
      "  year month day dep_time sched_dep_time dep_delay arr_time sched_arr_time\n",
      "1 2013     1   1      517            515         2      830            819\n",
      "2 2013     1   1      533            529         4      850            830\n",
      "3 2013     1   1      542            540         2      923            850\n",
      "4 2013     1   1      544            545        -1     1004           1022\n",
      "5 2013     1   1      554            600        -6      812            837\n",
      "6 2013     1   1      554            558        -4      740            728\n",
      "  arr_delay carrier flight tailnum origin dest air_time distance hour minute\n",
      "1        11      UA   1545  N14228    EWR  IAH      227     1400    5     15\n",
      "2        20      UA   1714  N24211    LGA  IAH      227     1416    5     29\n",
      "3        33      AA   1141  N619AA    JFK  MIA      160     1089    5     40\n",
      "4       -18      B6    725  N804JB    JFK  BQN      183     1576    5     45\n",
      "5       -25      DL    461  N668DN    LGA  ATL      116      762    6      0\n",
      "6        12      UA   1696  N39463    EWR  ORD      150      719    5     58\n",
      "            time_hour\n",
      "1 2013-01-01 05:00:00\n",
      "2 2013-01-01 05:00:00\n",
      "3 2013-01-01 05:00:00\n",
      "4 2013-01-01 05:00:00\n",
      "5 2013-01-01 06:00:00\n",
      "6 2013-01-01 05:00:00\n"
     ]
    },
    {
     "name": "stderr",
     "output_type": "stream",
     "text": [
      "What are the last 6 rows?\n"
     ]
    },
    {
     "name": "stdout",
     "output_type": "stream",
     "text": [
      "       year month day dep_time sched_dep_time dep_delay arr_time sched_arr_time\n",
      "336771 2013     9  30       NA           1842        NA       NA           2019\n",
      "336772 2013     9  30       NA           1455        NA       NA           1634\n",
      "336773 2013     9  30       NA           2200        NA       NA           2312\n",
      "336774 2013     9  30       NA           1210        NA       NA           1330\n",
      "336775 2013     9  30       NA           1159        NA       NA           1344\n",
      "336776 2013     9  30       NA            840        NA       NA           1020\n",
      "       arr_delay carrier flight tailnum origin dest air_time distance hour\n",
      "336771        NA      EV   5274  N740EV    LGA  BNA       NA      764   18\n",
      "336772        NA      9E   3393    <NA>    JFK  DCA       NA      213   14\n",
      "336773        NA      9E   3525    <NA>    LGA  SYR       NA      198   22\n",
      "336774        NA      MQ   3461  N535MQ    LGA  BNA       NA      764   12\n",
      "336775        NA      MQ   3572  N511MQ    LGA  CLE       NA      419   11\n",
      "336776        NA      MQ   3531  N839MQ    LGA  RDU       NA      431    8\n",
      "       minute           time_hour\n",
      "336771     42 2013-09-30 18:00:00\n",
      "336772     55 2013-09-30 14:00:00\n",
      "336773      0 2013-09-30 22:00:00\n",
      "336774     10 2013-09-30 12:00:00\n",
      "336775     59 2013-09-30 11:00:00\n",
      "336776     40 2013-09-30 08:00:00\n"
     ]
    },
    {
     "name": "stderr",
     "output_type": "stream",
     "text": [
      "What does the `sample` function do?\n"
     ]
    },
    {
     "name": "stdout",
     "output_type": "stream",
     "text": [
      "[1] 4 1\n"
     ]
    },
    {
     "name": "stderr",
     "output_type": "stream",
     "text": [
      "What happens when I use `sample` for indexing?\n"
     ]
    },
    {
     "name": "stdout",
     "output_type": "stream",
     "text": [
      "       year month day dep_time sched_dep_time dep_delay arr_time sched_arr_time\n",
      "163915 2013     3  30     1556           1600        -4     1919           1930\n",
      "323764 2013     9  17      553            602        -9      825            852\n",
      "335958 2013     9  30      810            759        11      908            906\n",
      "114618 2013     2   4     2151           2100        51     2303           2220\n",
      "114848 2013     2   5      841            845        -4     1025           1006\n",
      "136115 2013     2  28     1933           1935        -2     2220           2316\n",
      "22293  2013     1  26     1543           1548        -5     1821           1829\n",
      "85732  2013    12   3     1521           1530        -9     1715           1720\n",
      "247427 2013     6  27     1745           1636        69     1909           1805\n",
      "124086 2013     2  15     1536           1545        -9     1659           1703\n",
      "       arr_delay carrier flight tailnum origin dest air_time distance hour\n",
      "163915       -11      DL   1461  N624AG    JFK  LAX      348     2475   16\n",
      "323764       -27      UA   1115  N27733    EWR  TPA      131      997    6\n",
      "335958         2      EV   3827  N13992    EWR  MHT       40      209    7\n",
      "114618        43      MQ   3744  N509MQ    EWR  ORD      110      719   21\n",
      "114848        19      EV   4112  N16961    EWR  RIC       65      277    8\n",
      "136115       -56      B6    645  N623JB    JFK  SFO      326     2586   19\n",
      "22293         -8      DL     95  N723TW    JFK  ATL      107      760   15\n",
      "85732         -5      UA    381  N472UA    LGA  CLE       75      419   15\n",
      "247427        64      B6    918  N294JB    JFK  BOS       39      187   16\n",
      "124086        -4      9E   3658  N8694A    JFK  BWI       48      184   15\n",
      "       minute           time_hour\n",
      "163915      0 2013-03-30 16:00:00\n",
      "323764      2 2013-09-17 06:00:00\n",
      "335958     59 2013-09-30 07:00:00\n",
      "114618      0 2013-02-04 21:00:00\n",
      "114848     45 2013-02-05 08:00:00\n",
      "136115     35 2013-02-28 19:00:00\n",
      "22293      48 2013-01-26 15:00:00\n",
      "85732      30 2013-12-03 15:00:00\n",
      "247427     36 2013-06-27 16:00:00\n",
      "124086     45 2013-02-15 15:00:00\n"
     ]
    }
   ],
   "source": [
    "data(flights)\n",
    "flights <- data.frame(flights) ## dplyr has introduced a new data format that I am ignoring\n",
    "\n",
    "message('What are the first 6 rows?')\n",
    "print(head(flights))\n",
    "message('What are the last 6 rows?')\n",
    "print(tail(flights))\n",
    "\n",
    "message('What does the `sample` function do?')\n",
    "print(sample(1:6,2))\n",
    "\n",
    "message('What happens when I use `sample` for indexing?')\n",
    "print(flights[sample(1:nrow(flights),10),]) ## what is this doing?"
   ]
  },
  {
   "cell_type": "markdown",
   "metadata": {},
   "source": [
    "## Identifying and removing NAs in a dataset\n",
    "We noticed some NAs above (hopefully). How do you find them and remove observations for which there are NAs? "
   ]
  },
  {
   "cell_type": "code",
   "execution_count": 8,
   "metadata": {
    "collapsed": false
   },
   "outputs": [
    {
     "name": "stderr",
     "output_type": "stream",
     "text": [
      "What are the dimensions of the flights dataframe?\n",
      "\n"
     ]
    },
    {
     "name": "stdout",
     "output_type": "stream",
     "text": [
      "[1] 336776     19\n"
     ]
    },
    {
     "name": "stderr",
     "output_type": "stream",
     "text": [
      "Are there any NAs in the flights dataframe?\n",
      "\n"
     ]
    },
    {
     "name": "stdout",
     "output_type": "stream",
     "text": [
      "[1] TRUE\n",
      "[1] FALSE\n"
     ]
    },
    {
     "name": "stderr",
     "output_type": "stream",
     "text": [
      "Selecting for flights where there is complete data, what are the dimensions?\n",
      "\n"
     ]
    },
    {
     "name": "stdout",
     "output_type": "stream",
     "text": [
      "[1] 327346     19\n"
     ]
    },
    {
     "name": "stderr",
     "output_type": "stream",
     "text": [
      "How might I obtain a summary of the original dataset?\n"
     ]
    },
    {
     "name": "stdout",
     "output_type": "stream",
     "text": [
      "      year          month             day           dep_time    sched_dep_time\n",
      " Min.   :2013   Min.   : 1.000   Min.   : 1.00   Min.   :   1   Min.   : 106  \n",
      " 1st Qu.:2013   1st Qu.: 4.000   1st Qu.: 8.00   1st Qu.: 907   1st Qu.: 906  \n",
      " Median :2013   Median : 7.000   Median :16.00   Median :1401   Median :1359  \n",
      " Mean   :2013   Mean   : 6.549   Mean   :15.71   Mean   :1349   Mean   :1344  \n",
      " 3rd Qu.:2013   3rd Qu.:10.000   3rd Qu.:23.00   3rd Qu.:1744   3rd Qu.:1729  \n",
      " Max.   :2013   Max.   :12.000   Max.   :31.00   Max.   :2400   Max.   :2359  \n",
      "                                                 NA's   :8255                 \n",
      "   dep_delay          arr_time    sched_arr_time   arr_delay       \n",
      " Min.   : -43.00   Min.   :   1   Min.   :   1   Min.   : -86.000  \n",
      " 1st Qu.:  -5.00   1st Qu.:1104   1st Qu.:1124   1st Qu.: -17.000  \n",
      " Median :  -2.00   Median :1535   Median :1556   Median :  -5.000  \n",
      " Mean   :  12.64   Mean   :1502   Mean   :1536   Mean   :   6.895  \n",
      " 3rd Qu.:  11.00   3rd Qu.:1940   3rd Qu.:1945   3rd Qu.:  14.000  \n",
      " Max.   :1301.00   Max.   :2400   Max.   :2359   Max.   :1272.000  \n",
      " NA's   :8255      NA's   :8713                  NA's   :9430      \n",
      "   carrier              flight       tailnum             origin         \n",
      " Length:336776      Min.   :   1   Length:336776      Length:336776     \n",
      " Class :character   1st Qu.: 553   Class :character   Class :character  \n",
      " Mode  :character   Median :1496   Mode  :character   Mode  :character  \n",
      "                    Mean   :1972                                        \n",
      "                    3rd Qu.:3465                                        \n",
      "                    Max.   :8500                                        \n",
      "                                                                        \n",
      "     dest              air_time        distance         hour      \n",
      " Length:336776      Min.   : 20.0   Min.   :  17   Min.   : 1.00  \n",
      " Class :character   1st Qu.: 82.0   1st Qu.: 502   1st Qu.: 9.00  \n",
      " Mode  :character   Median :129.0   Median : 872   Median :13.00  \n",
      "                    Mean   :150.7   Mean   :1040   Mean   :13.18  \n",
      "                    3rd Qu.:192.0   3rd Qu.:1389   3rd Qu.:17.00  \n",
      "                    Max.   :695.0   Max.   :4983   Max.   :23.00  \n",
      "                    NA's   :9430                                  \n",
      "     minute        time_hour                  \n",
      " Min.   : 0.00   Min.   :2013-01-01 05:00:00  \n",
      " 1st Qu.: 8.00   1st Qu.:2013-04-04 13:00:00  \n",
      " Median :29.00   Median :2013-07-03 10:00:00  \n",
      " Mean   :26.23   Mean   :2013-07-03 05:02:36  \n",
      " 3rd Qu.:44.00   3rd Qu.:2013-10-01 07:00:00  \n",
      " Max.   :59.00   Max.   :2013-12-31 23:00:00  \n",
      "                                              \n"
     ]
    }
   ],
   "source": [
    "message('What are the dimensions of the flights dataframe?\\n')\n",
    "print(dim(flights))\n",
    "\n",
    "message('Are there any NAs in the flights dataframe?\\n')\n",
    "print(any(is.na(flights)))\n",
    "print(all(is.na(flights)))\n",
    "\n",
    "message('Selecting for flights where there is complete data, what are the dimensions?\\n')\n",
    "## complete.cases returns a logical vector indicating whether all observations in a row are not-NA.\n",
    "\n",
    "flights_complete <- flights[complete.cases(flights),]\n",
    "print(dim(flights_complete))\n",
    "\n",
    "message('How might I obtain a summary of the original dataset?')\n",
    "print(summary(flights))"
   ]
  },
  {
   "cell_type": "markdown",
   "metadata": {},
   "source": [
    "## Performing column-wise operations while grouping by other columns // Departure delay by airport of origin\n",
    "Sometimes you may want to perform some aggregate function on data by category, which is encoded in another column. Here we calculate the statistics for departure delay, grouping by origin of the flight - remember this is the greater NYC area, so there are only three origins!"
   ]
  },
  {
   "cell_type": "code",
   "execution_count": 9,
   "metadata": {
    "collapsed": false
   },
   "outputs": [
    {
     "name": "stderr",
     "output_type": "stream",
     "text": [
      "Using tapply...\n"
     ]
    },
    {
     "name": "stdout",
     "output_type": "stream",
     "text": [
      "$EWR\n",
      "   Min. 1st Qu.  Median    Mean 3rd Qu.    Max. \n",
      " -25.00   -4.00   -1.00   15.01   15.00 1126.00 \n",
      "\n",
      "$JFK\n",
      "   Min. 1st Qu.  Median    Mean 3rd Qu.    Max. \n",
      " -43.00   -5.00   -1.00   12.02   10.00 1301.00 \n",
      "\n",
      "$LGA\n",
      "   Min. 1st Qu.  Median    Mean 3rd Qu.    Max. \n",
      " -33.00   -6.00   -3.00   10.29    7.00  911.00 \n",
      "\n"
     ]
    },
    {
     "name": "stderr",
     "output_type": "stream",
     "text": [
      "That code is a bit messy, so using the with command for indicating the parent \n",
      "dataframe...\n"
     ]
    },
    {
     "name": "stdout",
     "output_type": "stream",
     "text": [
      "$EWR\n",
      "   Min. 1st Qu.  Median    Mean 3rd Qu.    Max. \n",
      " -25.00   -4.00   -1.00   15.01   15.00 1126.00 \n",
      "\n",
      "$JFK\n",
      "   Min. 1st Qu.  Median    Mean 3rd Qu.    Max. \n",
      " -43.00   -5.00   -1.00   12.02   10.00 1301.00 \n",
      "\n",
      "$LGA\n",
      "   Min. 1st Qu.  Median    Mean 3rd Qu.    Max. \n",
      " -33.00   -6.00   -3.00   10.29    7.00  911.00 \n",
      "\n"
     ]
    },
    {
     "name": "stderr",
     "output_type": "stream",
     "text": [
      "Using dplyr...\n"
     ]
    },
    {
     "name": "stdout",
     "output_type": "stream",
     "text": [
      "Source: local data frame [3 x 2]\n",
      "\n",
      "  origin avg_dep_delay\n",
      "   (chr)         (dbl)\n",
      "1    EWR      15.00911\n",
      "2    JFK      12.02361\n",
      "3    LGA      10.28658\n"
     ]
    }
   ],
   "source": [
    "message('Using tapply...')\n",
    "print(tapply(flights_complete$dep_delay, flights_complete$origin, summary))\n",
    "\n",
    "message('That code is a bit messy, so using the with command for indicating the parent \n",
    "dataframe...')\n",
    "print(with(flights_complete, \n",
    "           tapply(dep_delay, origin, summary)\n",
    "          ))\n",
    "\n",
    "message('Using dplyr...')\n",
    "print(flights_complete %>% group_by(origin) %>% summarise(avg_dep_delay=mean(dep_delay)))"
   ]
  },
  {
   "cell_type": "markdown",
   "metadata": {},
   "source": [
    "## Pipes in R: making the code readeable\n",
    "The last command hase a different syntax and uses a weird \"%>%\". This symbol is called a pipe, it is introduced in `magrittr` package, but `dplyr` and many other packages require it, so normally one have it if one have installed and loaded `dplyr`, `tidyr` etc.\n",
    "The basic reason for the existence of pipes %>% is that R code gets barely readable then one do smth complicated because of to muche nested brackets. When we want to provide to a function1 some data which itself is an output of a function2, which itself is (etc) we will get something like that:\n",
    "`function1(function2(function3(data,parameters3),parameters2),parameters1)`\n",
    "\n",
    "That may be samohow simplified with `with` as in examples above. But the piping simbol is a really great way to simlify the code.\n",
    "\n",
    "`data %>% function(parameters)`\n",
    "does exactly the same as\n",
    "\n",
    "`function(data,parameters)`\n",
    "\n",
    "But the code is read (and written) from the left to the rigth (and not inside-out) and gets easyer to understand.\n",
    "\n",
    "So let's remove rows with missing values (NA) from `flights` dataset, than calculate the average departure delay in one call, first using basic syntax than using pipes.\n"
   ]
  },
  {
   "cell_type": "code",
   "execution_count": 28,
   "metadata": {
    "collapsed": false
   },
   "outputs": [
    {
     "name": "stderr",
     "output_type": "stream",
     "text": [
      "Standard R Syntax (using with)\n"
     ]
    },
    {
     "name": "stdout",
     "output_type": "stream",
     "text": [
      "$EWR\n",
      "   Min. 1st Qu.  Median    Mean 3rd Qu.    Max. \n",
      " -25.00   -4.00   -1.00   15.01   15.00 1126.00 \n",
      "\n",
      "$JFK\n",
      "   Min. 1st Qu.  Median    Mean 3rd Qu.    Max. \n",
      " -43.00   -5.00   -1.00   12.02   10.00 1301.00 \n",
      "\n",
      "$LGA\n",
      "   Min. 1st Qu.  Median    Mean 3rd Qu.    Max. \n",
      " -33.00   -6.00   -3.00   10.29    7.00  911.00 \n",
      "\n"
     ]
    },
    {
     "name": "stderr",
     "output_type": "stream",
     "text": [
      "Same operation usign pipes and dplyr\n"
     ]
    },
    {
     "name": "stdout",
     "output_type": "stream",
     "text": [
      "Source: local data frame [3 x 2]\n",
      "\n",
      "  origin avg_dep_delay\n",
      "   (chr)         (dbl)\n",
      "1    EWR      15.00911\n",
      "2    JFK      12.02361\n",
      "3    LGA      10.28658\n"
     ]
    }
   ],
   "source": [
    "message('Standard R Syntax (using with)')\n",
    "print(with(flights[complete.cases(flights),], \n",
    "           tapply(dep_delay, origin, summary)\n",
    "          ))\n",
    "\n",
    "message('Same operation usign pipes and dplyr')\n",
    "flights %>% filter(complete.cases(.)) %>% \n",
    "    group_by(origin) %>% \n",
    "        summarise(avg_dep_delay = mean(dep_delay)) %>% \n",
    "            print()\n",
    "#note that . stands for the data frame in the call of type: data %>% funtction1(function2(data))\n",
    "#and in case of multi-line call, %>% should be in the end of a line"
   ]
  },
  {
   "cell_type": "markdown",
   "metadata": {},
   "source": [
    "## Merging tables 'vertically' // Subsetting United and American in a creepy way\n",
    "Combining different datasets seems to be an operation that is quite often required, and R provides a few tools to do that, often there are many ways of doing smth one want to have done.\n",
    "Adding new rows or joining data frames \"vertically\" may be seen as merging and is for sure quite often used.\n",
    "This may be done with ``rbind`` function. \n",
    "\n",
    "Here is kind of artificial exemple - let's create a data frame with information on flights by United Airlines and Amercian Airlines only, by creating two data frames via subsetting data about each airline one by one and then merging. \n",
    "\n",
    "The main condition is that columns have to have the same names (may be in different order)."
   ]
  },
  {
   "cell_type": "code",
   "execution_count": 11,
   "metadata": {
    "collapsed": false
   },
   "outputs": [
    {
     "name": "stderr",
     "output_type": "stream",
     "text": [
      "subsetting the dataset to have 2 data frames\n",
      "checking the number of rows in two data frames\n"
     ]
    },
    {
     "name": "stdout",
     "output_type": "stream",
     "text": [
      "[1] 91394\n"
     ]
    },
    {
     "name": "stderr",
     "output_type": "stream",
     "text": [
      "Than combining two dataframes than checking the number of rows in the resulting data frame\n"
     ]
    },
    {
     "name": "stdout",
     "output_type": "stream",
     "text": [
      "[1] 91394\n"
     ]
    }
   ],
   "source": [
    "message('subsetting the dataset to have 2 data frames')\n",
    "flightsUA <- flights[flights$carrier == 'UA',]\n",
    "flightsAA <- flights[flights$carrier == 'AA',]\n",
    "message('checking the number of rows in two data frames')\n",
    "print(nrow(flightsUA) + nrow(flightsAA))\n",
    "message('Than combining two dataframes than checking the number of rows in the resulting data frame')\n",
    "fligthsUAandAA <- rbind(flightsUA,flightsAA)\n",
    "print(nrow(fligthsUAandAA))\n"
   ]
  },
  {
   "cell_type": "markdown",
   "metadata": {},
   "source": [
    "Nothing special, just be sure the dataframes have the columns with the same names and types.\n",
    "\n",
    "A useful tip is to use ``do.call`` in order to merge more than two data frames.\n",
    "``do.call`` is a function that applies a function to a list of elements."
   ]
  },
  {
   "cell_type": "code",
   "execution_count": 12,
   "metadata": {
    "collapsed": false
   },
   "outputs": [
    {
     "name": "stderr",
     "output_type": "stream",
     "text": [
      "rBinding 3 data frames and checking the nomuber of rows\n"
     ]
    },
    {
     "name": "stdout",
     "output_type": "stream",
     "text": [
      "[1] 182788\n"
     ]
    }
   ],
   "source": [
    "message('rBinding 3 data frames and checking the nomuber of rows')\n",
    "print(nrow(do.call(rbind, list(flightsUA,flightsAA,fligthsUAandAA))))"
   ]
  },
  {
   "cell_type": "markdown",
   "metadata": {},
   "source": [
    "This technique is really usefull when one want to populate a data frame within a loop, but there is a problem.\n",
    "Each time we append a row to a dataframe within a lopp a new copy of a dataframe is stored in the memory :(\n",
    "\n",
    "The solutions is to create a list of data frames and then merge them with ``do.call rbind`` combo.\n",
    "But since ``rbind``, as many native R functions, is slow and not memory-efficient, for large datasets one may want to use\n",
    "``rbindlist`` function from ``data.table`` package, which does the same, but faster. We'll use 'system.time' function to see the execution time for those functions."
   ]
  },
  {
   "cell_type": "code",
   "execution_count": 13,
   "metadata": {
    "collapsed": false
   },
   "outputs": [
    {
     "name": "stderr",
     "output_type": "stream",
     "text": [
      "execution time for rbind\n"
     ]
    },
    {
     "data": {
      "text/plain": [
       "   user  system elapsed \n",
       "   0.29    0.00    0.28 "
      ]
     },
     "execution_count": 13,
     "metadata": {},
     "output_type": "execute_result"
    },
    {
     "name": "stderr",
     "output_type": "stream",
     "text": [
      "execution time for rbindlist, written in C\n"
     ]
    },
    {
     "data": {
      "text/plain": [
       "   user  system elapsed \n",
       "   0.02    0.00    0.02 "
      ]
     },
     "execution_count": 13,
     "metadata": {},
     "output_type": "execute_result"
    }
   ],
   "source": [
    "message('execution time for rbind')\n",
    "system.time(do.call(rbind, list(flightsUA,flightsAA,fligthsUAandAA)))\n",
    "\n",
    "message('execution time for rbindlist, written in C')\n",
    "system.time(rbindlist(list(flightsUA,flightsAA,fligthsUAandAA)))\n"
   ]
  },
  {
   "cell_type": "markdown",
   "metadata": {},
   "source": [
    "## Merge two tables by a single column // What are the most common destination airports?\n",
    "The `flights` dataset has destination airports coded, as three-letter airport codes. I'm pretty good at decoding them, but you don't have to be. "
   ]
  },
  {
   "cell_type": "code",
   "execution_count": 7,
   "metadata": {
    "collapsed": false,
    "scrolled": true
   },
   "outputs": [
    {
     "name": "stdout",
     "output_type": "stream",
     "text": [
      "Source: local data frame [6 x 7]\n",
      "\n",
      "    faa                           name      lat       lon   alt    tz   dst\n",
      "  (chr)                          (chr)    (dbl)     (dbl) (int) (dbl) (chr)\n",
      "1   04G              Lansdowne Airport 41.13047 -80.61958  1044    -5     A\n",
      "2   06A  Moton Field Municipal Airport 32.46057 -85.68003   264    -5     A\n",
      "3   06C            Schaumburg Regional 41.98934 -88.10124   801    -6     A\n",
      "4   06N                Randall Airport 41.43191 -74.39156   523    -5     A\n",
      "5   09J          Jekyll Island Airport 31.07447 -81.42778    11    -4     A\n",
      "6   0A9 Elizabethton Municipal Airport 36.37122 -82.17342  1593    -4     A\n"
     ]
    }
   ],
   "source": [
    "print(head(airports))"
   ]
  },
  {
   "cell_type": "markdown",
   "metadata": {},
   "source": [
    "The `airports` table gives us a key! Let's merge the `flights` data with the `airports` data, using `dest` in `flights` and `faa` in `airports`."
   ]
  },
  {
   "cell_type": "code",
   "execution_count": 8,
   "metadata": {
    "collapsed": false
   },
   "outputs": [
    {
     "name": "stderr",
     "output_type": "stream",
     "text": [
      "This is pretty easy in base R...\n"
     ]
    },
    {
     "name": "stdout",
     "output_type": "stream",
     "text": [
      "  dest year month day dep_time sched_dep_time dep_delay arr_time sched_arr_time\n",
      "1  ABQ 2013    11  17     1953           2000        -7     2250           2303\n",
      "2  ABQ 2013     6  14     2016           2001        15     2244           2308\n",
      "3  ABQ 2013     9   5     2029           2001        28     2244           2248\n",
      "4  ABQ 2013    10  19     1950           1959        -9     2236           2246\n",
      "5  ABQ 2013     9  23     2001           2001         0     2217           2248\n",
      "6  ABQ 2013     5  22     2001           2001         0       20           2308\n",
      "  arr_delay carrier flight tailnum origin air_time distance hour minute\n",
      "1       -13      B6     65  N648JB    JFK      275     1826   20      0\n",
      "2       -24      B6   1505  N506JB    JFK      239     1826   20      1\n",
      "3        -4      B6     65  N644JB    JFK      232     1826   20      1\n",
      "4       -10      B6     65  N635JB    JFK      262     1826   19     59\n",
      "5       -31      B6     65  N708JB    JFK      240     1826   20      1\n",
      "6        72      B6   1505  N531JB    JFK      260     1826   20      1\n",
      "            time_hour                              name      lat       lon  alt\n",
      "1 2013-11-17 20:00:00 Albuquerque International Sunport 35.04022 -106.6092 5355\n",
      "2 2013-06-14 20:00:00 Albuquerque International Sunport 35.04022 -106.6092 5355\n",
      "3 2013-09-05 20:00:00 Albuquerque International Sunport 35.04022 -106.6092 5355\n",
      "4 2013-10-19 19:00:00 Albuquerque International Sunport 35.04022 -106.6092 5355\n",
      "5 2013-09-23 20:00:00 Albuquerque International Sunport 35.04022 -106.6092 5355\n",
      "6 2013-05-22 20:00:00 Albuquerque International Sunport 35.04022 -106.6092 5355\n",
      "  tz dst\n",
      "1 -7   A\n",
      "2 -7   A\n",
      "3 -7   A\n",
      "4 -7   A\n",
      "5 -7   A\n",
      "6 -7   A\n"
     ]
    },
    {
     "name": "stderr",
     "output_type": "stream",
     "text": [
      "And you can do it in `dplyr` too...\n"
     ]
    },
    {
     "name": "stdout",
     "output_type": "stream",
     "text": [
      "  year month day dep_time sched_dep_time dep_delay arr_time sched_arr_time\n",
      "1 2013     1   1      517            515         2      830            819\n",
      "2 2013     1   1      533            529         4      850            830\n",
      "3 2013     1   1      542            540         2      923            850\n",
      "4 2013     1   1      544            545        -1     1004           1022\n",
      "5 2013     1   1      554            600        -6      812            837\n",
      "6 2013     1   1      554            558        -4      740            728\n",
      "  arr_delay carrier flight tailnum origin dest air_time distance hour minute\n",
      "1        11      UA   1545  N14228    EWR  IAH      227     1400    5     15\n",
      "2        20      UA   1714  N24211    LGA  IAH      227     1416    5     29\n",
      "3        33      AA   1141  N619AA    JFK  MIA      160     1089    5     40\n",
      "4       -18      B6    725  N804JB    JFK  BQN      183     1576    5     45\n",
      "5       -25      DL    461  N668DN    LGA  ATL      116      762    6      0\n",
      "6        12      UA   1696  N39463    EWR  ORD      150      719    5     58\n",
      "            time_hour                            name      lat       lon  alt\n",
      "1 2013-01-01 05:00:00    George Bush Intercontinental 29.98443 -95.34144   97\n",
      "2 2013-01-01 05:00:00    George Bush Intercontinental 29.98443 -95.34144   97\n",
      "3 2013-01-01 05:00:00                      Miami Intl 25.79325 -80.29056    8\n",
      "4 2013-01-01 05:00:00                            <NA>       NA        NA   NA\n",
      "5 2013-01-01 06:00:00 Hartsfield Jackson Atlanta Intl 33.63672 -84.42807 1026\n",
      "6 2013-01-01 05:00:00              Chicago Ohare Intl 41.97860 -87.90484  668\n",
      "  tz  dst\n",
      "1 -6    A\n",
      "2 -6    A\n",
      "3 -5    A\n",
      "4 NA <NA>\n",
      "5 -5    A\n",
      "6 -6    A\n"
     ]
    }
   ],
   "source": [
    "message('This is pretty easy in base R...')\n",
    "flights_readdest <- merge(flights_complete, airports, by.x='dest', by.y = 'faa', all.x=TRUE)\n",
    "print(head(flights_readdest))\n",
    "\n",
    "message('And you can do it in `dplyr` too...')\n",
    "flights_readdest2 <- left_join(flights_complete, airports, by = c(\"dest\" = \"faa\"))\n",
    "print(head(flights_readdest2))"
   ]
  },
  {
   "cell_type": "markdown",
   "metadata": {},
   "source": [
    "**Why did we use `all.x = TRUE` and `left_join`?**"
   ]
  },
  {
   "cell_type": "code",
   "execution_count": 9,
   "metadata": {
    "collapsed": false
   },
   "outputs": [
    {
     "name": "stdout",
     "output_type": "stream",
     "text": [
      "[1] \"BQN\" \"SJU\" \"STT\" \"PSE\"\n"
     ]
    }
   ],
   "source": [
    "print(setdiff(flights$dest, airports$faa))"
   ]
  },
  {
   "cell_type": "markdown",
   "metadata": {},
   "source": [
    "Well this merged dataset is nice, but do we really need all of this information?"
   ]
  },
  {
   "cell_type": "code",
   "execution_count": 10,
   "metadata": {
    "collapsed": false
   },
   "outputs": [
    {
     "name": "stdout",
     "output_type": "stream",
     "text": [
      " [1] \"dest\"           \"year\"           \"month\"          \"day\"           \n",
      " [5] \"dep_time\"       \"sched_dep_time\" \"dep_delay\"      \"arr_time\"      \n",
      " [9] \"sched_arr_time\" \"arr_delay\"      \"carrier\"        \"flight\"        \n",
      "[13] \"tailnum\"        \"origin\"         \"air_time\"       \"distance\"      \n",
      "[17] \"hour\"           \"minute\"         \"time_hour\"      \"name\"          \n",
      "[21] \"lat\"            \"lon\"            \"alt\"            \"tz\"            \n",
      "[25] \"dst\"           \n"
     ]
    }
   ],
   "source": [
    "print(colnames(flights_readdest))"
   ]
  },
  {
   "cell_type": "code",
   "execution_count": 11,
   "metadata": {
    "collapsed": false
   },
   "outputs": [
    {
     "name": "stdout",
     "output_type": "stream",
     "text": [
      "  origin                              dest year month day air_time\n",
      "1    JFK Albuquerque International Sunport 2013    11  17      275\n",
      "2    JFK Albuquerque International Sunport 2013     6  14      239\n",
      "3    JFK Albuquerque International Sunport 2013     9   5      232\n",
      "4    JFK Albuquerque International Sunport 2013    10  19      262\n",
      "5    JFK Albuquerque International Sunport 2013     9  23      240\n",
      "6    JFK Albuquerque International Sunport 2013     5  22      260\n"
     ]
    }
   ],
   "source": [
    "flights_sm <- select(flights_readdest,origin, dest=name, year, month, day, air_time)\n",
    "print(head(flights_sm))"
   ]
  },
  {
   "cell_type": "markdown",
   "metadata": {},
   "source": [
    "Why would you want to ever use `select`? `dplyr` lets you chain operations. Let's calculate the average air time for various flight paths, using origin and the readable version of destination airport."
   ]
  },
  {
   "cell_type": "code",
   "execution_count": 12,
   "metadata": {
    "collapsed": false
   },
   "outputs": [
    {
     "name": "stdout",
     "output_type": "stream",
     "text": [
      "Source: local data frame [6 x 3]\n",
      "Groups: origin [1]\n",
      "\n",
      "  origin                       dest avg_air_time\n",
      "   (chr)                      (chr)        (dbl)\n",
      "1    EWR                Albany Intl     31.78708\n",
      "2    EWR Asheville Regional Airport     89.79681\n",
      "3    EWR      Austin Bergstrom Intl    211.24765\n",
      "4    EWR  Baltimore Washington Intl     37.16412\n",
      "5    EWR               Bradley Intl     25.46602\n",
      "6    EWR       Buffalo Niagara Intl     51.15385\n",
      "[1] 218   3\n"
     ]
    }
   ],
   "source": [
    "airtime <- left_join(flights_complete, airports, by = c(\"dest\" = \"faa\")) %>% \n",
    "select(origin, dest=name, air_time) %>% \n",
    "group_by(origin, dest) %>% \n",
    "summarize(avg_air_time = mean(air_time))\n",
    "\n",
    "print(head(airtime))\n",
    "print(dim(airtime))"
   ]
  },
  {
   "cell_type": "markdown",
   "metadata": {},
   "source": [
    "What's the longest flight from each airport, on average?"
   ]
  },
  {
   "cell_type": "code",
   "execution_count": 13,
   "metadata": {
    "collapsed": false
   },
   "outputs": [
    {
     "data": {
      "text/html": [
       "<dl class=dl-horizontal>\n",
       "\t<dt>EWR</dt>\n",
       "\t\t<dd>612.075208913649</dd>\n",
       "\t<dt>JFK</dt>\n",
       "\t\t<dd>623.087719298246</dd>\n",
       "\t<dt>LGA</dt>\n",
       "\t\t<dd>227.515996718622</dd>\n",
       "</dl>\n"
      ],
      "text/latex": [
       "\\begin{description*}\n",
       "\\item[EWR] 612.075208913649\n",
       "\\item[JFK] 623.087719298246\n",
       "\\item[LGA] 227.515996718622\n",
       "\\end{description*}\n"
      ],
      "text/markdown": [
       "EWR\n",
       ":   612.075208913649JFK\n",
       ":   623.087719298246LGA\n",
       ":   227.515996718622\n",
       "\n"
      ],
      "text/plain": [
       "     EWR      JFK      LGA \n",
       "612.0752 623.0877 227.5160 "
      ]
     },
     "execution_count": 13,
     "metadata": {},
     "output_type": "execute_result"
    }
   ],
   "source": [
    "with(airtime, tapply(avg_air_time,origin,  max))"
   ]
  },
  {
   "cell_type": "markdown",
   "metadata": {},
   "source": [
    "## Pivot Table // Average flight time from origin to destination\n",
    "\n",
    "Let's put destinations in rows and origins in columns, and have `air_time` as values."
   ]
  },
  {
   "cell_type": "code",
   "execution_count": 14,
   "metadata": {
    "collapsed": false
   },
   "outputs": [
    {
     "ename": "ERROR",
     "evalue": "Error in eval(expr, envir, enclos): could not find function \"spread\"\n",
     "output_type": "error",
     "traceback": [
      "Error in eval(expr, envir, enclos): could not find function \"spread\"\n"
     ]
    },
    {
     "ename": "ERROR",
     "evalue": "Error in apply(pvt_airtime, 1, function(x) all(is.na(x))): object 'pvt_airtime' not found\n",
     "output_type": "error",
     "traceback": [
      "Error in apply(pvt_airtime, 1, function(x) all(is.na(x))): object 'pvt_airtime' not found\n"
     ]
    },
    {
     "ename": "ERROR",
     "evalue": "Error in print(pvt_airtime): object 'pvt_airtime' not found\n",
     "output_type": "error",
     "traceback": [
      "Error in print(pvt_airtime): object 'pvt_airtime' not found\n"
     ]
    }
   ],
   "source": [
    "pvt_airtime <- spread(airtime, origin, avg_air_time)\n",
    "summary(apply(pvt_airtime, 1, function(x) all(is.na(x))))\n",
    "print(pvt_airtime)"
   ]
  },
  {
   "cell_type": "markdown",
   "metadata": {},
   "source": [
    "## Multi-column merge // What's the weather like for departing flights?\n",
    "Flights...get delayed. What's the first step if you want to know if the departing airport's weather is at all responsible for the delay? Luckily, we have a `weather` dataset for that.\n",
    "\n",
    "Let's take a look."
   ]
  },
  {
   "cell_type": "code",
   "execution_count": 15,
   "metadata": {
    "collapsed": false
   },
   "outputs": [
    {
     "data": {
      "text/html": [
       "<table>\n",
       "<thead><tr><th></th><th scope=col>origin</th><th scope=col>year</th><th scope=col>month</th><th scope=col>day</th><th scope=col>hour</th><th scope=col>temp</th><th scope=col>dewp</th><th scope=col>humid</th><th scope=col>wind_dir</th><th scope=col>wind_speed</th><th scope=col>wind_gust</th><th scope=col>precip</th><th scope=col>pressure</th><th scope=col>visib</th><th scope=col>time_hour</th></tr></thead>\n",
       "<tbody>\n",
       "\t<tr><th scope=row>1</th><td>EWR</td><td>2013</td><td>1</td><td>1</td><td>0</td><td>37.04</td><td>21.92</td><td>53.97</td><td>230</td><td>10.35702</td><td>11.91865</td><td>0</td><td>1013.9</td><td>10</td><td>2013-01-01 01:00:00</td></tr>\n",
       "\t<tr><th scope=row>2</th><td>EWR</td><td>2013</td><td>1</td><td>1</td><td>1</td><td>37.04</td><td>21.92</td><td>53.97</td><td>230</td><td>13.80936</td><td>15.89154</td><td>0</td><td>1013</td><td>10</td><td>2013-01-01 02:00:00</td></tr>\n",
       "\t<tr><th scope=row>3</th><td>EWR</td><td>2013</td><td>1</td><td>1</td><td>2</td><td>37.94</td><td>21.92</td><td>52.09</td><td>230</td><td>12.65858</td><td>14.56724</td><td>0</td><td>1012.6</td><td>10</td><td>2013-01-01 03:00:00</td></tr>\n",
       "\t<tr><th scope=row>4</th><td>EWR</td><td>2013</td><td>1</td><td>1</td><td>3</td><td>37.94</td><td>23</td><td>54.51</td><td>230</td><td>13.80936</td><td>15.89154</td><td>0</td><td>1012.7</td><td>10</td><td>2013-01-01 04:00:00</td></tr>\n",
       "\t<tr><th scope=row>5</th><td>EWR</td><td>2013</td><td>1</td><td>1</td><td>4</td><td>37.94</td><td>24.08</td><td>57.04</td><td>240</td><td>14.96014</td><td>17.21583</td><td>0</td><td>1012.8</td><td>10</td><td>2013-01-01 05:00:00</td></tr>\n",
       "\t<tr><th scope=row>6</th><td>EWR</td><td>2013</td><td>1</td><td>1</td><td>6</td><td>39.02</td><td>26.06</td><td>59.37</td><td>270</td><td>10.35702</td><td>11.91865</td><td>0</td><td>1012</td><td>10</td><td>2013-01-01 07:00:00</td></tr>\n",
       "</tbody>\n",
       "</table>\n"
      ],
      "text/latex": [
       "\\begin{tabular}{r|lllllllllllllll}\n",
       "  & origin & year & month & day & hour & temp & dewp & humid & wind_dir & wind_speed & wind_gust & precip & pressure & visib & time_hour\\\\\n",
       "\\hline\n",
       "\t1 & EWR & 2013 & 1 & 1 & 0 & 37.04 & 21.92 & 53.97 & 230 & 10.35702 & 11.91865 & 0 & 1013.9 & 10 & 2013-01-01 01:00:00\\\\\n",
       "\t2 & EWR & 2013 & 1 & 1 & 1 & 37.04 & 21.92 & 53.97 & 230 & 13.80936 & 15.89154 & 0 & 1013 & 10 & 2013-01-01 02:00:00\\\\\n",
       "\t3 & EWR & 2013 & 1 & 1 & 2 & 37.94 & 21.92 & 52.09 & 230 & 12.65858 & 14.56724 & 0 & 1012.6 & 10 & 2013-01-01 03:00:00\\\\\n",
       "\t4 & EWR & 2013 & 1 & 1 & 3 & 37.94 & 23 & 54.51 & 230 & 13.80936 & 15.89154 & 0 & 1012.7 & 10 & 2013-01-01 04:00:00\\\\\n",
       "\t5 & EWR & 2013 & 1 & 1 & 4 & 37.94 & 24.08 & 57.04 & 240 & 14.96014 & 17.21583 & 0 & 1012.8 & 10 & 2013-01-01 05:00:00\\\\\n",
       "\t6 & EWR & 2013 & 1 & 1 & 6 & 39.02 & 26.06 & 59.37 & 270 & 10.35702 & 11.91865 & 0 & 1012 & 10 & 2013-01-01 07:00:00\\\\\n",
       "\\end{tabular}\n"
      ],
      "text/plain": [
       "Source: local data frame [6 x 15]\n",
       "\n",
       "  origin  year month   day  hour  temp  dewp humid wind_dir wind_speed\n",
       "   (chr) (dbl) (dbl) (int) (int) (dbl) (dbl) (dbl)    (dbl)      (dbl)\n",
       "1    EWR  2013     1     1     0 37.04 21.92 53.97      230   10.35702\n",
       "2    EWR  2013     1     1     1 37.04 21.92 53.97      230   13.80936\n",
       "3    EWR  2013     1     1     2 37.94 21.92 52.09      230   12.65858\n",
       "4    EWR  2013     1     1     3 37.94 23.00 54.51      230   13.80936\n",
       "5    EWR  2013     1     1     4 37.94 24.08 57.04      240   14.96014\n",
       "6    EWR  2013     1     1     6 39.02 26.06 59.37      270   10.35702\n",
       "Variables not shown: wind_gust (dbl), precip (dbl), pressure (dbl), visib\n",
       "  (dbl), time_hour (time)"
      ]
     },
     "execution_count": 15,
     "metadata": {},
     "output_type": "execute_result"
    },
    {
     "name": "stdout",
     "output_type": "stream",
     "text": [
      "[1] \"year\"      \"month\"     \"day\"       \"origin\"    \"hour\"      \"time_hour\"\n"
     ]
    }
   ],
   "source": [
    "head(weather)\n",
    "print(intersect(colnames(flights_complete), colnames(weather)))"
   ]
  },
  {
   "cell_type": "code",
   "execution_count": 16,
   "metadata": {
    "collapsed": false,
    "scrolled": true
   },
   "outputs": [
    {
     "name": "stdout",
     "output_type": "stream",
     "text": [
      "[1] 327346     19\n",
      "[1] 326160     29\n"
     ]
    }
   ],
   "source": [
    "flights_weather <- merge(flights_complete, weather, \n",
    "                         by=c(\"year\", \"month\",\"day\",\"hour\", \"origin\"))\n",
    "print(dim(flights_complete))\n",
    "print(dim(flights_weather))\n"
   ]
  },
  {
   "cell_type": "code",
   "execution_count": 17,
   "metadata": {
    "collapsed": false
   },
   "outputs": [
    {
     "name": "stdout",
     "output_type": "stream",
     "text": [
      "[1] 2811   29\n"
     ]
    }
   ],
   "source": [
    "flights_weather_posdelays <- filter(flights_weather, dep_delay>200)\n",
    "print(dim(flights_weather_posdelays))"
   ]
  },
  {
   "cell_type": "markdown",
   "metadata": {},
   "source": [
    "## Arranging a dataframe // What's the weather like for the most and least delayed flights?\n",
    "\n",
    "Let's sort the `flights_weather` dataframe on `dep_delay` and get the top 10 values."
   ]
  },
  {
   "cell_type": "code",
   "execution_count": 18,
   "metadata": {
    "collapsed": false
   },
   "outputs": [
    {
     "data": {
      "text/html": [
       "<table>\n",
       "<thead><tr><th></th><th scope=col>year</th><th scope=col>month</th><th scope=col>day</th><th scope=col>hour</th><th scope=col>origin</th><th scope=col>dep_time</th><th scope=col>sched_dep_time</th><th scope=col>dep_delay</th><th scope=col>arr_time</th><th scope=col>sched_arr_time</th><th scope=col>arr_delay</th><th scope=col>carrier</th><th scope=col>flight</th><th scope=col>tailnum</th><th scope=col>dest</th><th scope=col>air_time</th><th scope=col>distance</th><th scope=col>minute</th><th scope=col>time_hour.x</th><th scope=col>temp</th><th scope=col>dewp</th><th scope=col>humid</th><th scope=col>wind_dir</th><th scope=col>wind_speed</th><th scope=col>wind_gust</th><th scope=col>precip</th><th scope=col>pressure</th><th scope=col>visib</th><th scope=col>time_hour.y</th></tr></thead>\n",
       "<tbody>\n",
       "\t<tr><th scope=row>1</th><td>2013</td><td>1</td><td>9</td><td>9</td><td>JFK</td><td>641</td><td>900</td><td>1301</td><td>1242</td><td>1530</td><td>1272</td><td>HA</td><td>51</td><td>N384HA</td><td>HNL</td><td>640</td><td>4983</td><td>0</td><td>2013-01-09 09:00:00</td><td>35.06</td><td>33.08</td><td>92.4</td><td>0</td><td>0</td><td>0</td><td>0</td><td>1028.6</td><td>9</td><td>2013-01-09 10:00:00</td></tr>\n",
       "\t<tr><th scope=row>2</th><td>2013</td><td>6</td><td>15</td><td>19</td><td>JFK</td><td>1432</td><td>1935</td><td>1137</td><td>1607</td><td>2120</td><td>1127</td><td>MQ</td><td>3535</td><td>N504MQ</td><td>CMH</td><td>74</td><td>483</td><td>35</td><td>2013-06-15 19:00:00</td><td>78.08</td><td>50</td><td>37.38</td><td>220</td><td>10.35702</td><td>11.91865</td><td>0</td><td>1013.8</td><td>10</td><td>2013-06-15 20:00:00</td></tr>\n",
       "\t<tr><th scope=row>3</th><td>2013</td><td>1</td><td>10</td><td>16</td><td>EWR</td><td>1121</td><td>1635</td><td>1126</td><td>1239</td><td>1810</td><td>1109</td><td>MQ</td><td>3695</td><td>N517MQ</td><td>ORD</td><td>111</td><td>719</td><td>35</td><td>2013-01-10 16:00:00</td><td>46.94</td><td>21.92</td><td>36.85</td><td>330</td><td>13.80936</td><td>15.89154</td><td>0</td><td>1032</td><td>10</td><td>2013-01-10 17:00:00</td></tr>\n",
       "\t<tr><th scope=row>4</th><td>2013</td><td>9</td><td>20</td><td>18</td><td>JFK</td><td>1139</td><td>1845</td><td>1014</td><td>1457</td><td>2210</td><td>1007</td><td>AA</td><td>177</td><td>N338AA</td><td>SFO</td><td>354</td><td>2586</td><td>45</td><td>2013-09-20 18:00:00</td><td>73.94</td><td>53.96</td><td>49.66</td><td>180</td><td>12.65858</td><td>14.56724</td><td>0</td><td>1017.7</td><td>10</td><td>2013-09-20 19:00:00</td></tr>\n",
       "\t<tr><th scope=row>5</th><td>2013</td><td>7</td><td>22</td><td>16</td><td>JFK</td><td>845</td><td>1600</td><td>1005</td><td>1044</td><td>1815</td><td>989</td><td>MQ</td><td>3075</td><td>N665MQ</td><td>CVG</td><td>96</td><td>589</td><td>0</td><td>2013-07-22 16:00:00</td><td>84.92</td><td>71.96</td><td>65.23</td><td>120</td><td>10.35702</td><td>11.91865</td><td>0</td><td>1013.7</td><td>10</td><td>2013-07-22 17:00:00</td></tr>\n",
       "\t<tr><th scope=row>6</th><td>2013</td><td>4</td><td>10</td><td>19</td><td>JFK</td><td>1100</td><td>1900</td><td>960</td><td>1342</td><td>2211</td><td>931</td><td>DL</td><td>2391</td><td>N959DL</td><td>TPA</td><td>139</td><td>1005</td><td>0</td><td>2013-04-10 19:00:00</td><td>60.08</td><td>46.04</td><td>59.72</td><td>140</td><td>17.2617</td><td>19.86442</td><td>0</td><td>1012.8</td><td>10</td><td>2013-04-10 20:00:00</td></tr>\n",
       "\t<tr><th scope=row>7</th><td>2013</td><td>3</td><td>17</td><td>8</td><td>LGA</td><td>2321</td><td>810</td><td>911</td><td>135</td><td>1020</td><td>915</td><td>DL</td><td>2119</td><td>N927DA</td><td>MSP</td><td>167</td><td>1020</td><td>10</td><td>2013-03-17 08:00:00</td><td>33.08</td><td>23</td><td>66.11</td><td>320</td><td>12.65858</td><td>14.56724</td><td>0</td><td>1014.9</td><td>10</td><td>2013-03-17 09:00:00</td></tr>\n",
       "\t<tr><th scope=row>8</th><td>2013</td><td>6</td><td>27</td><td>19</td><td>JFK</td><td>959</td><td>1900</td><td>899</td><td>1236</td><td>2226</td><td>850</td><td>DL</td><td>2007</td><td>N3762Y</td><td>PDX</td><td>313</td><td>2454</td><td>0</td><td>2013-06-27 19:00:00</td><td>80.6</td><td>71.6</td><td>74.11</td><td>170</td><td>9.20624</td><td>10.59436</td><td>0</td><td>NA</td><td>9</td><td>2013-06-27 20:00:00</td></tr>\n",
       "\t<tr><th scope=row>9</th><td>2013</td><td>7</td><td>22</td><td>7</td><td>LGA</td><td>2257</td><td>759</td><td>898</td><td>121</td><td>1026</td><td>895</td><td>DL</td><td>2047</td><td>N6716C</td><td>ATL</td><td>109</td><td>762</td><td>59</td><td>2013-07-22 07:00:00</td><td>75.92</td><td>69.98</td><td>81.85</td><td>60</td><td>6.90468</td><td>7.945768</td><td>0</td><td>1013.5</td><td>10</td><td>2013-07-22 08:00:00</td></tr>\n",
       "\t<tr><th scope=row>10</th><td>2013</td><td>12</td><td>5</td><td>17</td><td>EWR</td><td>756</td><td>1700</td><td>896</td><td>1058</td><td>2020</td><td>878</td><td>AA</td><td>172</td><td>N5DMAA</td><td>MIA</td><td>149</td><td>1085</td><td>0</td><td>2013-12-05 17:00:00</td><td>55.4</td><td>53.6</td><td>93.65</td><td>0</td><td>0</td><td>0</td><td>0</td><td>NA</td><td>2</td><td>2013-12-05 18:00:00</td></tr>\n",
       "</tbody>\n",
       "</table>\n"
      ],
      "text/latex": [
       "\\begin{tabular}{r|lllllllllllllllllllllllllllll}\n",
       "  & year & month & day & hour & origin & dep_time & sched_dep_time & dep_delay & arr_time & sched_arr_time & arr_delay & carrier & flight & tailnum & dest & air_time & distance & minute & time_hour.x & temp & dewp & humid & wind_dir & wind_speed & wind_gust & precip & pressure & visib & time_hour.y\\\\\n",
       "\\hline\n",
       "\t1 & 2013 & 1 & 9 & 9 & JFK & 641 & 900 & 1301 & 1242 & 1530 & 1272 & HA & 51 & N384HA & HNL & 640 & 4983 & 0 & 2013-01-09 09:00:00 & 35.06 & 33.08 & 92.4 & 0 & 0 & 0 & 0 & 1028.6 & 9 & 2013-01-09 10:00:00\\\\\n",
       "\t2 & 2013 & 6 & 15 & 19 & JFK & 1432 & 1935 & 1137 & 1607 & 2120 & 1127 & MQ & 3535 & N504MQ & CMH & 74 & 483 & 35 & 2013-06-15 19:00:00 & 78.08 & 50 & 37.38 & 220 & 10.35702 & 11.91865 & 0 & 1013.8 & 10 & 2013-06-15 20:00:00\\\\\n",
       "\t3 & 2013 & 1 & 10 & 16 & EWR & 1121 & 1635 & 1126 & 1239 & 1810 & 1109 & MQ & 3695 & N517MQ & ORD & 111 & 719 & 35 & 2013-01-10 16:00:00 & 46.94 & 21.92 & 36.85 & 330 & 13.80936 & 15.89154 & 0 & 1032 & 10 & 2013-01-10 17:00:00\\\\\n",
       "\t4 & 2013 & 9 & 20 & 18 & JFK & 1139 & 1845 & 1014 & 1457 & 2210 & 1007 & AA & 177 & N338AA & SFO & 354 & 2586 & 45 & 2013-09-20 18:00:00 & 73.94 & 53.96 & 49.66 & 180 & 12.65858 & 14.56724 & 0 & 1017.7 & 10 & 2013-09-20 19:00:00\\\\\n",
       "\t5 & 2013 & 7 & 22 & 16 & JFK & 845 & 1600 & 1005 & 1044 & 1815 & 989 & MQ & 3075 & N665MQ & CVG & 96 & 589 & 0 & 2013-07-22 16:00:00 & 84.92 & 71.96 & 65.23 & 120 & 10.35702 & 11.91865 & 0 & 1013.7 & 10 & 2013-07-22 17:00:00\\\\\n",
       "\t6 & 2013 & 4 & 10 & 19 & JFK & 1100 & 1900 & 960 & 1342 & 2211 & 931 & DL & 2391 & N959DL & TPA & 139 & 1005 & 0 & 2013-04-10 19:00:00 & 60.08 & 46.04 & 59.72 & 140 & 17.2617 & 19.86442 & 0 & 1012.8 & 10 & 2013-04-10 20:00:00\\\\\n",
       "\t7 & 2013 & 3 & 17 & 8 & LGA & 2321 & 810 & 911 & 135 & 1020 & 915 & DL & 2119 & N927DA & MSP & 167 & 1020 & 10 & 2013-03-17 08:00:00 & 33.08 & 23 & 66.11 & 320 & 12.65858 & 14.56724 & 0 & 1014.9 & 10 & 2013-03-17 09:00:00\\\\\n",
       "\t8 & 2013 & 6 & 27 & 19 & JFK & 959 & 1900 & 899 & 1236 & 2226 & 850 & DL & 2007 & N3762Y & PDX & 313 & 2454 & 0 & 2013-06-27 19:00:00 & 80.6 & 71.6 & 74.11 & 170 & 9.20624 & 10.59436 & 0 & NA & 9 & 2013-06-27 20:00:00\\\\\n",
       "\t9 & 2013 & 7 & 22 & 7 & LGA & 2257 & 759 & 898 & 121 & 1026 & 895 & DL & 2047 & N6716C & ATL & 109 & 762 & 59 & 2013-07-22 07:00:00 & 75.92 & 69.98 & 81.85 & 60 & 6.90468 & 7.945768 & 0 & 1013.5 & 10 & 2013-07-22 08:00:00\\\\\n",
       "\t10 & 2013 & 12 & 5 & 17 & EWR & 756 & 1700 & 896 & 1058 & 2020 & 878 & AA & 172 & N5DMAA & MIA & 149 & 1085 & 0 & 2013-12-05 17:00:00 & 55.4 & 53.6 & 93.65 & 0 & 0 & 0 & 0 & NA & 2 & 2013-12-05 18:00:00\\\\\n",
       "\\end{tabular}\n"
      ],
      "text/plain": [
       "   year month day hour origin dep_time sched_dep_time dep_delay arr_time\n",
       "1  2013     1   9    9    JFK      641            900      1301     1242\n",
       "2  2013     6  15   19    JFK     1432           1935      1137     1607\n",
       "3  2013     1  10   16    EWR     1121           1635      1126     1239\n",
       "4  2013     9  20   18    JFK     1139           1845      1014     1457\n",
       "5  2013     7  22   16    JFK      845           1600      1005     1044\n",
       "6  2013     4  10   19    JFK     1100           1900       960     1342\n",
       "7  2013     3  17    8    LGA     2321            810       911      135\n",
       "8  2013     6  27   19    JFK      959           1900       899     1236\n",
       "9  2013     7  22    7    LGA     2257            759       898      121\n",
       "10 2013    12   5   17    EWR      756           1700       896     1058\n",
       "   sched_arr_time arr_delay carrier flight tailnum dest air_time distance\n",
       "1            1530      1272      HA     51  N384HA  HNL      640     4983\n",
       "2            2120      1127      MQ   3535  N504MQ  CMH       74      483\n",
       "3            1810      1109      MQ   3695  N517MQ  ORD      111      719\n",
       "4            2210      1007      AA    177  N338AA  SFO      354     2586\n",
       "5            1815       989      MQ   3075  N665MQ  CVG       96      589\n",
       "6            2211       931      DL   2391  N959DL  TPA      139     1005\n",
       "7            1020       915      DL   2119  N927DA  MSP      167     1020\n",
       "8            2226       850      DL   2007  N3762Y  PDX      313     2454\n",
       "9            1026       895      DL   2047  N6716C  ATL      109      762\n",
       "10           2020       878      AA    172  N5DMAA  MIA      149     1085\n",
       "   minute         time_hour.x  temp  dewp humid wind_dir wind_speed wind_gust\n",
       "1       0 2013-01-09 09:00:00 35.06 33.08 92.40        0    0.00000  0.000000\n",
       "2      35 2013-06-15 19:00:00 78.08 50.00 37.38      220   10.35702 11.918651\n",
       "3      35 2013-01-10 16:00:00 46.94 21.92 36.85      330   13.80936 15.891535\n",
       "4      45 2013-09-20 18:00:00 73.94 53.96 49.66      180   12.65858 14.567241\n",
       "5       0 2013-07-22 16:00:00 84.92 71.96 65.23      120   10.35702 11.918651\n",
       "6       0 2013-04-10 19:00:00 60.08 46.04 59.72      140   17.26170 19.864419\n",
       "7      10 2013-03-17 08:00:00 33.08 23.00 66.11      320   12.65858 14.567241\n",
       "8       0 2013-06-27 19:00:00 80.60 71.60 74.11      170    9.20624 10.594357\n",
       "9      59 2013-07-22 07:00:00 75.92 69.98 81.85       60    6.90468  7.945768\n",
       "10      0 2013-12-05 17:00:00 55.40 53.60 93.65        0    0.00000  0.000000\n",
       "   precip pressure visib         time_hour.y\n",
       "1       0   1028.6     9 2013-01-09 10:00:00\n",
       "2       0   1013.8    10 2013-06-15 20:00:00\n",
       "3       0   1032.0    10 2013-01-10 17:00:00\n",
       "4       0   1017.7    10 2013-09-20 19:00:00\n",
       "5       0   1013.7    10 2013-07-22 17:00:00\n",
       "6       0   1012.8    10 2013-04-10 20:00:00\n",
       "7       0   1014.9    10 2013-03-17 09:00:00\n",
       "8       0       NA     9 2013-06-27 20:00:00\n",
       "9       0   1013.5    10 2013-07-22 08:00:00\n",
       "10      0       NA     2 2013-12-05 18:00:00"
      ]
     },
     "execution_count": 18,
     "metadata": {},
     "output_type": "execute_result"
    }
   ],
   "source": [
    "flights_weather %>% arrange(desc(dep_delay)) %>% head(10)"
   ]
  },
  {
   "cell_type": "code",
   "execution_count": 19,
   "metadata": {
    "collapsed": false
   },
   "outputs": [
    {
     "data": {
      "text/html": [
       "<table>\n",
       "<thead><tr><th></th><th scope=col>year</th><th scope=col>month</th><th scope=col>day</th><th scope=col>hour</th><th scope=col>origin</th><th scope=col>dep_time</th><th scope=col>sched_dep_time</th><th scope=col>dep_delay</th><th scope=col>arr_time</th><th scope=col>sched_arr_time</th><th scope=col>arr_delay</th><th scope=col>carrier</th><th scope=col>flight</th><th scope=col>tailnum</th><th scope=col>dest</th><th scope=col>air_time</th><th scope=col>distance</th><th scope=col>minute</th><th scope=col>time_hour.x</th><th scope=col>temp</th><th scope=col>dewp</th><th scope=col>humid</th><th scope=col>wind_dir</th><th scope=col>wind_speed</th><th scope=col>wind_gust</th><th scope=col>precip</th><th scope=col>pressure</th><th scope=col>visib</th><th scope=col>time_hour.y</th></tr></thead>\n",
       "<tbody>\n",
       "\t<tr><th scope=row>1</th><td>2013</td><td>12</td><td>7</td><td>21</td><td>JFK</td><td>2040</td><td>2123</td><td>-43</td><td>40</td><td>2352</td><td>48</td><td>B6</td><td>97</td><td>N592JB</td><td>DEN</td><td>265</td><td>1626</td><td>23</td><td>2013-12-07 21:00:00</td><td>37.94</td><td>17.96</td><td>44</td><td>320</td><td>10.35702</td><td>11.91865</td><td>0</td><td>1028.6</td><td>10</td><td>2013-12-07 22:00:00</td></tr>\n",
       "\t<tr><th scope=row>2</th><td>2013</td><td>2</td><td>3</td><td>20</td><td>LGA</td><td>2022</td><td>2055</td><td>-33</td><td>2240</td><td>2338</td><td>-58</td><td>DL</td><td>1715</td><td>N612DL</td><td>MSY</td><td>162</td><td>1183</td><td>55</td><td>2013-02-03 20:00:00</td><td>30.2</td><td>17.6</td><td>59.01</td><td>320</td><td>6.90468</td><td>7.945768</td><td>0</td><td>NA</td><td>10</td><td>2013-02-03 21:00:00</td></tr>\n",
       "\t<tr><th scope=row>3</th><td>2013</td><td>11</td><td>10</td><td>14</td><td>LGA</td><td>1408</td><td>1440</td><td>-32</td><td>1549</td><td>1559</td><td>-10</td><td>EV</td><td>5713</td><td>N825AS</td><td>IAD</td><td>52</td><td>229</td><td>40</td><td>2013-11-10 14:00:00</td><td>53.96</td><td>30.02</td><td>39.72</td><td>260</td><td>12.65858</td><td>14.56724</td><td>0</td><td>1011.5</td><td>10</td><td>2013-11-10 15:00:00</td></tr>\n",
       "\t<tr><th scope=row>4</th><td>2013</td><td>1</td><td>11</td><td>19</td><td>LGA</td><td>1900</td><td>1930</td><td>-30</td><td>2233</td><td>2243</td><td>-10</td><td>DL</td><td>1435</td><td>N934DL</td><td>TPA</td><td>139</td><td>1010</td><td>30</td><td>2013-01-11 19:00:00</td><td>39.92</td><td>33.08</td><td>76.32</td><td>60</td><td>9.20624</td><td>10.59436</td><td>0</td><td>1026.2</td><td>10</td><td>2013-01-11 20:00:00</td></tr>\n",
       "\t<tr><th scope=row>5</th><td>2013</td><td>1</td><td>29</td><td>17</td><td>LGA</td><td>1703</td><td>1730</td><td>-27</td><td>1947</td><td>1957</td><td>-10</td><td>F9</td><td>837</td><td>N208FR</td><td>DEN</td><td>250</td><td>1620</td><td>30</td><td>2013-01-29 17:00:00</td><td>39.02</td><td>33.98</td><td>81.95</td><td>60</td><td>11.5078</td><td>13.24295</td><td>0</td><td>1019.9</td><td>5</td><td>2013-01-29 18:00:00</td></tr>\n",
       "\t<tr><th scope=row>6</th><td>2013</td><td>8</td><td>9</td><td>7</td><td>LGA</td><td>729</td><td>755</td><td>-26</td><td>1002</td><td>955</td><td>7</td><td>MQ</td><td>3478</td><td>N711MQ</td><td>DTW</td><td>88</td><td>502</td><td>55</td><td>2013-08-09 07:00:00</td><td>73.94</td><td>71.06</td><td>90.73</td><td>170</td><td>9.20624</td><td>10.59436</td><td>0</td><td>1014.6</td><td>10</td><td>2013-08-09 08:00:00</td></tr>\n",
       "\t<tr><th scope=row>7</th><td>2013</td><td>10</td><td>23</td><td>19</td><td>EWR</td><td>1907</td><td>1932</td><td>-25</td><td>2143</td><td>2143</td><td>0</td><td>EV</td><td>4361</td><td>N13994</td><td>TYS</td><td>111</td><td>631</td><td>32</td><td>2013-10-23 19:00:00</td><td>55.94</td><td>33.08</td><td>41.82</td><td>NA</td><td>3.45234</td><td>3.972884</td><td>0</td><td>1003.2</td><td>10</td><td>2013-10-23 20:00:00</td></tr>\n",
       "\t<tr><th scope=row>8</th><td>2013</td><td>3</td><td>30</td><td>20</td><td>LGA</td><td>2030</td><td>2055</td><td>-25</td><td>2213</td><td>2250</td><td>-37</td><td>MQ</td><td>4573</td><td>N725MQ</td><td>DTW</td><td>87</td><td>502</td><td>55</td><td>2013-03-30 20:00:00</td><td>55.94</td><td>17.96</td><td>22.32</td><td>300</td><td>9.20624</td><td>10.59436</td><td>0</td><td>1017.9</td><td>10</td><td>2013-03-30 21:00:00</td></tr>\n",
       "\t<tr><th scope=row>9</th><td>2013</td><td>3</td><td>2</td><td>14</td><td>JFK</td><td>1431</td><td>1455</td><td>-24</td><td>1601</td><td>1631</td><td>-30</td><td>9E</td><td>3318</td><td>N929XJ</td><td>BUF</td><td>55</td><td>301</td><td>55</td><td>2013-03-02 14:00:00</td><td>39.02</td><td>21.02</td><td>48.07</td><td>340</td><td>12.65858</td><td>14.56724</td><td>0</td><td>1008</td><td>10</td><td>2013-03-02 15:00:00</td></tr>\n",
       "\t<tr><th scope=row>10</th><td>2013</td><td>5</td><td>14</td><td>9</td><td>LGA</td><td>914</td><td>938</td><td>-24</td><td>1143</td><td>1204</td><td>-21</td><td>9E</td><td>4065</td><td>N8747B</td><td>SDF</td><td>107</td><td>659</td><td>38</td><td>2013-05-14 09:00:00</td><td>44.96</td><td>32</td><td>60.2</td><td>310</td><td>13.80936</td><td>15.89154</td><td>0</td><td>1019.3</td><td>10</td><td>2013-05-14 10:00:00</td></tr>\n",
       "</tbody>\n",
       "</table>\n"
      ],
      "text/latex": [
       "\\begin{tabular}{r|lllllllllllllllllllllllllllll}\n",
       "  & year & month & day & hour & origin & dep_time & sched_dep_time & dep_delay & arr_time & sched_arr_time & arr_delay & carrier & flight & tailnum & dest & air_time & distance & minute & time_hour.x & temp & dewp & humid & wind_dir & wind_speed & wind_gust & precip & pressure & visib & time_hour.y\\\\\n",
       "\\hline\n",
       "\t1 & 2013 & 12 & 7 & 21 & JFK & 2040 & 2123 & -43 & 40 & 2352 & 48 & B6 & 97 & N592JB & DEN & 265 & 1626 & 23 & 2013-12-07 21:00:00 & 37.94 & 17.96 & 44 & 320 & 10.35702 & 11.91865 & 0 & 1028.6 & 10 & 2013-12-07 22:00:00\\\\\n",
       "\t2 & 2013 & 2 & 3 & 20 & LGA & 2022 & 2055 & -33 & 2240 & 2338 & -58 & DL & 1715 & N612DL & MSY & 162 & 1183 & 55 & 2013-02-03 20:00:00 & 30.2 & 17.6 & 59.01 & 320 & 6.90468 & 7.945768 & 0 & NA & 10 & 2013-02-03 21:00:00\\\\\n",
       "\t3 & 2013 & 11 & 10 & 14 & LGA & 1408 & 1440 & -32 & 1549 & 1559 & -10 & EV & 5713 & N825AS & IAD & 52 & 229 & 40 & 2013-11-10 14:00:00 & 53.96 & 30.02 & 39.72 & 260 & 12.65858 & 14.56724 & 0 & 1011.5 & 10 & 2013-11-10 15:00:00\\\\\n",
       "\t4 & 2013 & 1 & 11 & 19 & LGA & 1900 & 1930 & -30 & 2233 & 2243 & -10 & DL & 1435 & N934DL & TPA & 139 & 1010 & 30 & 2013-01-11 19:00:00 & 39.92 & 33.08 & 76.32 & 60 & 9.20624 & 10.59436 & 0 & 1026.2 & 10 & 2013-01-11 20:00:00\\\\\n",
       "\t5 & 2013 & 1 & 29 & 17 & LGA & 1703 & 1730 & -27 & 1947 & 1957 & -10 & F9 & 837 & N208FR & DEN & 250 & 1620 & 30 & 2013-01-29 17:00:00 & 39.02 & 33.98 & 81.95 & 60 & 11.5078 & 13.24295 & 0 & 1019.9 & 5 & 2013-01-29 18:00:00\\\\\n",
       "\t6 & 2013 & 8 & 9 & 7 & LGA & 729 & 755 & -26 & 1002 & 955 & 7 & MQ & 3478 & N711MQ & DTW & 88 & 502 & 55 & 2013-08-09 07:00:00 & 73.94 & 71.06 & 90.73 & 170 & 9.20624 & 10.59436 & 0 & 1014.6 & 10 & 2013-08-09 08:00:00\\\\\n",
       "\t7 & 2013 & 10 & 23 & 19 & EWR & 1907 & 1932 & -25 & 2143 & 2143 & 0 & EV & 4361 & N13994 & TYS & 111 & 631 & 32 & 2013-10-23 19:00:00 & 55.94 & 33.08 & 41.82 & NA & 3.45234 & 3.972884 & 0 & 1003.2 & 10 & 2013-10-23 20:00:00\\\\\n",
       "\t8 & 2013 & 3 & 30 & 20 & LGA & 2030 & 2055 & -25 & 2213 & 2250 & -37 & MQ & 4573 & N725MQ & DTW & 87 & 502 & 55 & 2013-03-30 20:00:00 & 55.94 & 17.96 & 22.32 & 300 & 9.20624 & 10.59436 & 0 & 1017.9 & 10 & 2013-03-30 21:00:00\\\\\n",
       "\t9 & 2013 & 3 & 2 & 14 & JFK & 1431 & 1455 & -24 & 1601 & 1631 & -30 & 9E & 3318 & N929XJ & BUF & 55 & 301 & 55 & 2013-03-02 14:00:00 & 39.02 & 21.02 & 48.07 & 340 & 12.65858 & 14.56724 & 0 & 1008 & 10 & 2013-03-02 15:00:00\\\\\n",
       "\t10 & 2013 & 5 & 14 & 9 & LGA & 914 & 938 & -24 & 1143 & 1204 & -21 & 9E & 4065 & N8747B & SDF & 107 & 659 & 38 & 2013-05-14 09:00:00 & 44.96 & 32 & 60.2 & 310 & 13.80936 & 15.89154 & 0 & 1019.3 & 10 & 2013-05-14 10:00:00\\\\\n",
       "\\end{tabular}\n"
      ],
      "text/plain": [
       "   year month day hour origin dep_time sched_dep_time dep_delay arr_time\n",
       "1  2013    12   7   21    JFK     2040           2123       -43       40\n",
       "2  2013     2   3   20    LGA     2022           2055       -33     2240\n",
       "3  2013    11  10   14    LGA     1408           1440       -32     1549\n",
       "4  2013     1  11   19    LGA     1900           1930       -30     2233\n",
       "5  2013     1  29   17    LGA     1703           1730       -27     1947\n",
       "6  2013     8   9    7    LGA      729            755       -26     1002\n",
       "7  2013    10  23   19    EWR     1907           1932       -25     2143\n",
       "8  2013     3  30   20    LGA     2030           2055       -25     2213\n",
       "9  2013     3   2   14    JFK     1431           1455       -24     1601\n",
       "10 2013     5  14    9    LGA      914            938       -24     1143\n",
       "   sched_arr_time arr_delay carrier flight tailnum dest air_time distance\n",
       "1            2352        48      B6     97  N592JB  DEN      265     1626\n",
       "2            2338       -58      DL   1715  N612DL  MSY      162     1183\n",
       "3            1559       -10      EV   5713  N825AS  IAD       52      229\n",
       "4            2243       -10      DL   1435  N934DL  TPA      139     1010\n",
       "5            1957       -10      F9    837  N208FR  DEN      250     1620\n",
       "6             955         7      MQ   3478  N711MQ  DTW       88      502\n",
       "7            2143         0      EV   4361  N13994  TYS      111      631\n",
       "8            2250       -37      MQ   4573  N725MQ  DTW       87      502\n",
       "9            1631       -30      9E   3318  N929XJ  BUF       55      301\n",
       "10           1204       -21      9E   4065  N8747B  SDF      107      659\n",
       "   minute         time_hour.x  temp  dewp humid wind_dir wind_speed wind_gust\n",
       "1      23 2013-12-07 21:00:00 37.94 17.96 44.00      320   10.35702 11.918651\n",
       "2      55 2013-02-03 20:00:00 30.20 17.60 59.01      320    6.90468  7.945768\n",
       "3      40 2013-11-10 14:00:00 53.96 30.02 39.72      260   12.65858 14.567241\n",
       "4      30 2013-01-11 19:00:00 39.92 33.08 76.32       60    9.20624 10.594357\n",
       "5      30 2013-01-29 17:00:00 39.02 33.98 81.95       60   11.50780 13.242946\n",
       "6      55 2013-08-09 07:00:00 73.94 71.06 90.73      170    9.20624 10.594357\n",
       "7      32 2013-10-23 19:00:00 55.94 33.08 41.82       NA    3.45234  3.972884\n",
       "8      55 2013-03-30 20:00:00 55.94 17.96 22.32      300    9.20624 10.594357\n",
       "9      55 2013-03-02 14:00:00 39.02 21.02 48.07      340   12.65858 14.567241\n",
       "10     38 2013-05-14 09:00:00 44.96 32.00 60.20      310   13.80936 15.891535\n",
       "   precip pressure visib         time_hour.y\n",
       "1       0   1028.6    10 2013-12-07 22:00:00\n",
       "2       0       NA    10 2013-02-03 21:00:00\n",
       "3       0   1011.5    10 2013-11-10 15:00:00\n",
       "4       0   1026.2    10 2013-01-11 20:00:00\n",
       "5       0   1019.9     5 2013-01-29 18:00:00\n",
       "6       0   1014.6    10 2013-08-09 08:00:00\n",
       "7       0   1003.2    10 2013-10-23 20:00:00\n",
       "8       0   1017.9    10 2013-03-30 21:00:00\n",
       "9       0   1008.0    10 2013-03-02 15:00:00\n",
       "10      0   1019.3    10 2013-05-14 10:00:00"
      ]
     },
     "execution_count": 19,
     "metadata": {},
     "output_type": "execute_result"
    }
   ],
   "source": [
    "flights_weather %>% arrange(dep_delay) %>% head(10)"
   ]
  },
  {
   "cell_type": "markdown",
   "metadata": {},
   "source": [
    "## Some other tidying\n",
    "## Capitalization issues."
   ]
  },
  {
   "cell_type": "code",
   "execution_count": 20,
   "metadata": {
    "collapsed": false
   },
   "outputs": [
    {
     "name": "stdout",
     "output_type": "stream",
     "text": [
      "[1] \"iah\" \"iah\" \"mia\" \"bqn\" \"atl\" \"ord\"\n",
      "[1] \"IAH\" \"IAH\" \"MIA\" \"BQN\" \"ATL\" \"ORD\"\n"
     ]
    }
   ],
   "source": [
    "print(head(tolower(flights_complete$dest)))\n",
    "print(head(toupper(tolower(flights_complete$dest))))"
   ]
  },
  {
   "cell_type": "markdown",
   "metadata": {},
   "source": [
    "## Wide to long formatted data"
   ]
  },
  {
   "cell_type": "code",
   "execution_count": 21,
   "metadata": {
    "collapsed": false
   },
   "outputs": [
    {
     "name": "stdout",
     "output_type": "stream",
     "text": [
      "  year month day dep_time sched_dep_time dep_delay arr_time sched_arr_time\n",
      "1 2013     1   1      517            515         2      830            819\n",
      "2 2013     1   1      533            529         4      850            830\n",
      "3 2013     1   1      542            540         2      923            850\n",
      "4 2013     1   1      544            545        -1     1004           1022\n",
      "5 2013     1   1      554            600        -6      812            837\n",
      "6 2013     1   1      554            558        -4      740            728\n",
      "  arr_delay carrier flight tailnum origin dest air_time distance hour minute\n",
      "1        11      UA   1545  N14228    EWR  IAH      227     1400    5     15\n",
      "2        20      UA   1714  N24211    LGA  IAH      227     1416    5     29\n",
      "3        33      AA   1141  N619AA    JFK  MIA      160     1089    5     40\n",
      "4       -18      B6    725  N804JB    JFK  BQN      183     1576    5     45\n",
      "5       -25      DL    461  N668DN    LGA  ATL      116      762    6      0\n",
      "6        12      UA   1696  N39463    EWR  ORD      150      719    5     58\n",
      "            time_hour\n",
      "1 2013-01-01 05:00:00\n",
      "2 2013-01-01 05:00:00\n",
      "3 2013-01-01 05:00:00\n",
      "4 2013-01-01 05:00:00\n",
      "5 2013-01-01 06:00:00\n",
      "6 2013-01-01 05:00:00\n"
     ]
    }
   ],
   "source": [
    "print(head(flights_complete))"
   ]
  },
  {
   "cell_type": "code",
   "execution_count": 22,
   "metadata": {
    "collapsed": false
   },
   "outputs": [
    {
     "name": "stderr",
     "output_type": "stream",
     "text": [
      "Using `reshape`\n"
     ]
    },
    {
     "ename": "ERROR",
     "evalue": "Error in eval(expr, envir, enclos): could not find function \"melt\"\n",
     "output_type": "error",
     "traceback": [
      "Error in eval(expr, envir, enclos): could not find function \"melt\"\n"
     ]
    },
    {
     "ename": "ERROR",
     "evalue": "Error in head(day_delay): object 'day_delay' not found\n",
     "output_type": "error",
     "traceback": [
      "Error in head(day_delay): object 'day_delay' not found\n"
     ]
    },
    {
     "name": "stderr",
     "output_type": "stream",
     "text": [
      "Using `tidyr`\n"
     ]
    },
    {
     "ename": "ERROR",
     "evalue": "Error in eval(expr, envir, enclos): could not find function \"gather\"\n",
     "output_type": "error",
     "traceback": [
      "Error in eval(expr, envir, enclos): could not find function \"gather\"\n"
     ]
    },
    {
     "ename": "ERROR",
     "evalue": "Error in head(day_delay): object 'day_delay' not found\n",
     "output_type": "error",
     "traceback": [
      "Error in head(day_delay): object 'day_delay' not found\n"
     ]
    },
    {
     "ename": "ERROR",
     "evalue": "Error in eval(expr, envir, enclos): could not find function \"ggplot\"\n",
     "output_type": "error",
     "traceback": [
      "Error in eval(expr, envir, enclos): could not find function \"ggplot\"\n"
     ]
    }
   ],
   "source": [
    "message('Using `reshape`')\n",
    "day_delay <- melt(flights_complete, id.vars=c(\"time_hour\"), \n",
    "                measure.vars=c(\"dep_delay\",\"arr_delay\"), variable_name = \"type_of_delay\")\n",
    "print(head(day_delay))\n",
    "message('Using `tidyr`')\n",
    "day_delay <- gather(flights_complete, `dep_delay`,`arr_delay`, \n",
    "                    key = \"type_of_delay\", value=\"value\")\n",
    "print(head(day_delay))\n",
    "ggplot(day_delay,aes(x=time_hour,y=value,colour=type_of_delay, group=type_of_delay)) + geom_point()"
   ]
  },
  {
   "cell_type": "markdown",
   "metadata": {},
   "source": [
    "Well this is a bit hard to read. What about the first entry for each type of delay in each hour? \n",
    "\n",
    "## Removing duplicates"
   ]
  },
  {
   "cell_type": "code",
   "execution_count": 23,
   "metadata": {
    "collapsed": false
   },
   "outputs": [
    {
     "ename": "ERROR",
     "evalue": "Error in distinct_(.data, .dots = lazyeval::lazy_dots(...)): object 'day_delay' not found\n",
     "output_type": "error",
     "traceback": [
      "Error in distinct_(.data, .dots = lazyeval::lazy_dots(...)): object 'day_delay' not found\n"
     ]
    },
    {
     "ename": "ERROR",
     "evalue": "Error in head(day_delay_first): object 'day_delay_first' not found\n",
     "output_type": "error",
     "traceback": [
      "Error in head(day_delay_first): object 'day_delay_first' not found\n"
     ]
    },
    {
     "ename": "ERROR",
     "evalue": "Error in eval(expr, envir, enclos): could not find function \"ggplot\"\n",
     "output_type": "error",
     "traceback": [
      "Error in eval(expr, envir, enclos): could not find function \"ggplot\"\n"
     ]
    }
   ],
   "source": [
    "day_delay_first <- distinct(day_delay, time_hour, type_of_delay, .keep_all = TRUE)\n",
    "print(head(day_delay_first))\n",
    "ggplot(day_delay_first,aes(x=time_hour,y=value,colour=type_of_delay, group=type_of_delay)) + geom_point()"
   ]
  },
  {
   "cell_type": "markdown",
   "metadata": {},
   "source": [
    "### An incomplete investigation of NAs \n",
    "\n",
    "Let's examine where there are NAs in the `flights` dataset."
   ]
  },
  {
   "cell_type": "code",
   "execution_count": 24,
   "metadata": {
    "collapsed": false
   },
   "outputs": [
    {
     "name": "stdout",
     "output_type": "stream",
     "text": [
      "      row col\n",
      "[1,]  839   4\n",
      "[2,]  840   4\n",
      "[3,]  841   4\n",
      "[4,]  842   4\n",
      "[5,] 1778   4\n",
      "[6,] 1779   4\n",
      "\n",
      "   4    6    7    9   12   15 \n",
      "8255 8255 8713 9430 2512 9430 \n",
      " dep_time dep_delay  arr_time arr_delay   tailnum  air_time \n",
      "     8255      8255      8713      9430      2512      9430 \n"
     ]
    }
   ],
   "source": [
    "ind <- which(is.na(flights), arr.ind = TRUE)\n",
    "print(head(ind))\n",
    "ind2 <- table(ind[,2])\n",
    "print(ind2)\n",
    "names(ind2) <- colnames(flights)[as.numeric(names(ind2))]\n",
    "print(ind2)"
   ]
  },
  {
   "cell_type": "code",
   "execution_count": 25,
   "metadata": {
    "collapsed": false
   },
   "outputs": [
    {
     "name": "stdout",
     "output_type": "stream",
     "text": [
      "[1] 9430   19\n"
     ]
    }
   ],
   "source": [
    "flights_incomplete <- flights[!complete.cases(flights),]\n",
    "print(dim(flights_incomplete))"
   ]
  },
  {
   "cell_type": "markdown",
   "metadata": {},
   "source": [
    "Do flights with NA departure time also have an NA departure delay?"
   ]
  },
  {
   "cell_type": "code",
   "execution_count": 26,
   "metadata": {
    "collapsed": false
   },
   "outputs": [
    {
     "name": "stdout",
     "output_type": "stream",
     "text": [
      "\n",
      "FALSE  TRUE \n",
      " 1175  8255 \n",
      "\n",
      "FALSE  TRUE \n",
      " 1175  8255 \n"
     ]
    }
   ],
   "source": [
    "print(table(is.na(flights_incomplete$dep_time) & is.na(flights_incomplete$dep_delay)))\n",
    "print(table(is.na(flights_incomplete$dep_time) | is.na(flights_incomplete$dep_delay)))"
   ]
  },
  {
   "cell_type": "markdown",
   "metadata": {},
   "source": [
    "Yes."
   ]
  }
 ],
 "metadata": {
  "anaconda-cloud": {},
  "kernelspec": {
   "display_name": "R",
   "language": "R",
   "name": "ir"
  },
  "language_info": {
   "codemirror_mode": "r",
   "file_extension": ".r",
   "mimetype": "text/x-r-source",
   "name": "R",
   "pygments_lexer": "r",
   "version": "3.1.3"
  }
 },
 "nbformat": 4,
 "nbformat_minor": 0
}
